{
 "cells": [
  {
   "attachments": {},
   "cell_type": "markdown",
   "metadata": {},
   "source": [
    "# InfoKost Web Scraper"
   ]
  },
  {
   "attachments": {},
   "cell_type": "markdown",
   "metadata": {},
   "source": [
    "# Import library"
   ]
  },
  {
   "cell_type": "code",
   "execution_count": 1,
   "metadata": {},
   "outputs": [],
   "source": [
    "from bs4 import BeautifulSoup\n",
    "from urllib.request import urlopen as uReq, Request\n",
    "import time\n",
    "import json\n",
    "from geopy.geocoders import Nominatim\n",
    "geocoder = Nominatim(user_agent = 'infokostscraper')\n"
   ]
  },
  {
   "attachments": {},
   "cell_type": "markdown",
   "metadata": {},
   "source": [
    "# Membuat Kelas Data Kost"
   ]
  },
  {
   "cell_type": "code",
   "execution_count": 2,
   "metadata": {},
   "outputs": [],
   "source": [
    "class DataKost:\n",
    "    def __init__(self, nama_kost, alamat, daerah, kecamatan, kota, latitude, longitude, tipe_kost, tipe_kamar, luas_kamar, fasilitas_kamar, isKamarMandiDalam, fasilitas_kamar_mandi, fasilitas_gedung, harga_per_bulan):\n",
    "        self.nama_kost = nama_kost\n",
    "        self.alamat = alamat\n",
    "        self.daerah = daerah\n",
    "        self.kecamatan = kecamatan\n",
    "        self.kota = kota\n",
    "        self.latitude = latitude\n",
    "        self.longitude = longitude\n",
    "        self.tipe_kost = tipe_kost\n",
    "        self.tipe_kamar = tipe_kamar\n",
    "        self.luas_kamar = luas_kamar\n",
    "        self.fasilits_kamar = fasilitas_kamar\n",
    "        self.fasilitas_kamar_mandi = fasilitas_kamar_mandi\n",
    "        self.isKamarMandiDalam = isKamarMandiDalam\n",
    "        self.fasilitas_gedung = fasilitas_gedung\n",
    "        self.harga_per_bulan = harga_per_bulan\n",
    "    \n",
    "    def printObject(self):\n",
    "        print(f'''\n",
    "        Nama Kost              : {self.nama_kost}\n",
    "        Alamat                 : {self.alamat}\n",
    "        Daerah                 : {self.daerah}\n",
    "        Kecamatan              : {self.kecamatan}\n",
    "        Kota                   : {self.kota}\n",
    "        Latitude               : {self.latitude}\n",
    "        Longitude              : {self.longitude}\n",
    "        Tipe Kost              : {self.tipe_kost}\n",
    "        Tipe Kamar             : {self.tipe_kamar}\n",
    "        Luas Kamar             : {self.luas_kamar}\n",
    "        Fasilitas Kamar        : {self.fasilits_kamar}\n",
    "        Fasilitas Kamar Mandi  : {self.fasilitas_kamar_mandi}\n",
    "        Is Kamar Mandi Dalam   : {self.isKamarMandiDalam}\n",
    "        Fasilitas Gedung       : {self.fasilitas_gedung}\n",
    "        Harga Per Bulan        : {self.harga_per_bulan}\n",
    "        ''')"
   ]
  },
  {
   "attachments": {},
   "cell_type": "markdown",
   "metadata": {},
   "source": [
    "# Fungsi untuk Data Manipulation"
   ]
  },
  {
   "cell_type": "code",
   "execution_count": 3,
   "metadata": {},
   "outputs": [],
   "source": [
    "#fungsi untuk mengubah format harga dari string menjadi integer\n",
    "#contoh : Rp3.000.000 --> 3000000\n",
    "def harga_to_integer(str):\n",
    "    num = int(str[3:-7].replace(\".\", \"\"))\n",
    "    return num\n",
    "\n",
    "#fungsi untuk mengubah format luas kamar dari string menjadi integer\n",
    "def luas_to_float(str):\n",
    "    if 'm' == str[12]:\n",
    "        #format Luas kamar : m2\n",
    "        #dianggap None dan nanti akan di pass karena menandakan tidak terdapat data luas kamar\n",
    "        num = None\n",
    "    elif 'dan' in str:\n",
    "        #format suatu tipe yang memiliki 2 luas kamar\n",
    "        #dianggap None dan nanti akan di pass karena ambigu dan rancu\n",
    "        num = None\n",
    "    elif '-' in str:\n",
    "        #format suatu tipe yang memiliki luas kamar beragam dan berupa range\n",
    "        #dianggap None dan nanti akan di pass karena ambigu dan rancu\n",
    "        num = None\n",
    "    else: \n",
    "        if '.' in str:\n",
    "            if 'x' in str:\n",
    "                #format Luas kamar : a.b x c.d\n",
    "                #dianggap None dan nanti akan di pass (kasus khusus)\n",
    "                num = None\n",
    "            else:\n",
    "                #format luas kamar berupa float\n",
    "                num = float(str[12:-2])\n",
    "        elif ',' in str:\n",
    "            if 'x' in str:\n",
    "                #format Luas kamar : a,b x c,d\n",
    "                #dianggap None dan nanti akan di pass (kasus khusus)\n",
    "                num = None\n",
    "            else:\n",
    "                #format luas kamar berupa float, menggunakan ','\n",
    "                num = float(str[12:-2].replace(\",\", \".\"))\n",
    "        else:\n",
    "            if 'x' in str:\n",
    "                if 'x' == str[13]:\n",
    "                    #format perkalian akan dikalikan\n",
    "                    num = (float(str[12]) * float(str[14]))\n",
    "                else:\n",
    "                    #kasus khusus akan di pass\n",
    "                    num = None\n",
    "            else:\n",
    "                num = float(str[12:-2])\n",
    "    return num"
   ]
  },
  {
   "attachments": {},
   "cell_type": "markdown",
   "metadata": {},
   "source": [
    "# Fungsi untuk scrape web infokost"
   ]
  },
  {
   "cell_type": "code",
   "execution_count": 4,
   "metadata": {},
   "outputs": [],
   "source": [
    "def get_data_kost(listOfKost, firstpage, lastpage):\n",
    "    page = firstpage\n",
    "    while page <= lastpage :\n",
    "        try :\n",
    "            #url = \"https://infokost.id/search-results/page/\"+str(page)+\"/\" #base url yang dipakai untuk setiap page\n",
    "            url = \"https://infokost.id/search-results/page/\"+str(page)+\"/?location_search=Jakarta+Pusat%2C+Central+Jakarta+City%2C+Jakarta%2C+Indonesia&search_city=central-jakarta&search_area=central-jakarta-city&search_country=indonesia&lat=-6.1805113&lng=106.8283831\"\n",
    "            header = {'user-agent': 'Mozilla/5.0 (Windows NT 10.0; Win64; x64); \\web_scrapping\\infokost_scrap'}\n",
    "            req_page = Request(url, headers=header)\n",
    "            uClient = uReq(req_page)\n",
    "            html_text = uClient.read()\n",
    "            uClient.close()\n",
    "            soup_page = BeautifulSoup(html_text, \"lxml\")\n",
    "            \n",
    "            print(\" \")\n",
    "            print(f'[SCRAPING] {url} \\n')\n",
    "            kost_list = soup_page.find_all('div', class_='item-wrap infobox_trigger homey-matchHeight') \n",
    "\n",
    "            for kost in kost_list[:-5]:\n",
    "                try:\n",
    "                    specific_url = kost.h2.a[\"href\"] #spesific url dari tiap item kost untuk mendapatkan info secara detail\n",
    "                    spesific_page = Request(specific_url, headers=header)\n",
    "                    uClient = uReq(spesific_page)\n",
    "                    specific_html_text = uClient.read()\n",
    "                    uClient.close()\n",
    "                    subsoup = BeautifulSoup(specific_html_text, \"lxml\")\n",
    "                    featured_list_kamar = subsoup.find('div',{'class': 'item-row item-list-view'})\n",
    "                    list_kamar = featured_list_kamar.find_all('div', class_='item-wrap infobox_trigger homey-matchHeight')\n",
    "                    \n",
    "                    for kamar in list_kamar:\n",
    "                        #array untuk menampung list fasilitas kamar dan gedung\n",
    "                        arr_fasilitas_kamar = []\n",
    "                        arr_fasilitas_gedung = []\n",
    "\n",
    "                        #mengambil info luas kamar\n",
    "                        featured_luas_kamar = kamar.find('address', class_='item-address').text \n",
    "                        luas_kamar = luas_to_float(featured_luas_kamar) #convert ke float\n",
    "                        if luas_kamar is None:\n",
    "                            #apabila luas kamar tidak ada atau berupa kasus khusus penyebab ambigu/rancu maka akan di pass\n",
    "                            #tidak mengambil bad data\n",
    "                            pass\n",
    "                        else:\n",
    "                            #mengambil info nama kost\n",
    "                            nama_kost = subsoup.find('h1', class_='listing-title').text.strip()\n",
    "                            if nama_kost == '':\n",
    "                                #tidak mengambil bad data\n",
    "                                pass\n",
    "                            else:\n",
    "                                #mengambil info alamat kost\n",
    "                                alamat = subsoup.find('address', class_='item-address').text.strip()\n",
    "                                if alamat == '':\n",
    "                                    #tidak mengambil bad data\n",
    "                                    pass\n",
    "                                else:\n",
    "                                    #mengambil info daerah kost\n",
    "                                    daerah = kost.find('address', class_='item-address').text\n",
    "                                    arr_daerah = daerah.split(\",\") #menyimpan info daerah secara spesifik ke dalam array\n",
    "                                    if len(arr_daerah) == 2 : \n",
    "                                        #default daerah adalah kecamatan, kota (length = 2)\n",
    "                                        #apabila length tidak = 2 maka ada info yang kurang ataupun tidak cocok dengan format, dan akan di pass\n",
    "                                        kecamatan = arr_daerah[0].strip() #menyimpan info daerah secara spesifik, yaitu kecamatan\n",
    "                                        kota = arr_daerah[1].strip() #menyimpan info daerah secara spesifik, yaitu kota\n",
    "                                        if kecamatan == '':\n",
    "                                            #kasus khusus, length = 2 tetapi kecamatannya kosong maka akan di pass (bad data)\n",
    "                                            pass\n",
    "                                        else:\n",
    "                                            #mencari koordinat daerah\n",
    "                                            coordinates = geocoder.geocode(str(daerah)) \n",
    "                                            if coordinates is not None:\n",
    "                                                latitude = coordinates.latitude\n",
    "                                                longitude = coordinates.longitude\n",
    "                                            else:\n",
    "                                                coordinates_alt = geocoder.geocode(str(kota)) \n",
    "                                                if coordinates_alt is not None:\n",
    "                                                    latitude = coordinates_alt.latitude\n",
    "                                                    longitude = coordinates_alt.longitude\n",
    "                                                else:\n",
    "                                                    latitude = -2.4833826 #latitude default Indonesia\n",
    "                                                    longitude = 117.8902853 #longitude default Indonesia\n",
    "                                            #mengambil info tipe kost, apakah kost campur, putra, atau putri\n",
    "                                            tipe_kost = kost.find('div', class_='col-sm-5 col-xs-6 no-l-pad').text.strip()\n",
    "                                            #mengambil info tipe kamar \n",
    "                                            tipe_kamar = kamar.find('h2', class_='title roomtitle').text.strip()\n",
    "                                            #mengambil info fasilitas kamar yang disediakan\n",
    "                                            list_fasilitas_kamar = kamar.find('ul', class_='detail-list-disc no-pad').find_all('li')\n",
    "                                            for faskamar in list_fasilitas_kamar:\n",
    "                                                arr_fasilitas_kamar.append(faskamar.text.strip())\n",
    "                                            if arr_fasilitas_kamar is not []:\n",
    "                                                fasilitas_kamar = ', '.join(arr_fasilitas_kamar) #menyimpan info fasilitas kamar yang ada\n",
    "                                                #mengambil info fasilitas kamar mandi\n",
    "                                                fasilitas_kamar_mandi = kamar.find('span', class_='item-label miximgiconlabel').text\n",
    "                                                arr_fasilitas_km = fasilitas_kamar_mandi.split(\",\")\n",
    "                                                arr_km_word = arr_fasilitas_km[0].split(\" \")\n",
    "                                                if len(arr_km_word) == 3:\n",
    "                                                    #mengambil info apakah termasuk kamar mandi dalam\n",
    "                                                    if arr_km_word[2] == (\"dalam\" or \"dalem\"):\n",
    "                                                        isKamarMandiDalam = True\n",
    "                                                    else:\n",
    "                                                        isKamarMandiDalam = False\n",
    "                                                    #mengambil info fasilitas gedung\n",
    "                                                    list_fasilitas_gedung = subsoup.find('ul', class_='detail-list detail-list-2-cols').find_all('li')\n",
    "                                                    for fasgedung in list_fasilitas_gedung:\n",
    "                                                        arr_fasilitas_gedung.append(fasgedung.text.strip())\n",
    "                                                    if arr_fasilitas_gedung is not []:\n",
    "                                                        fasilitas_gedung = ', '.join(arr_fasilitas_gedung) #menyimpan info fasilitas gedung yang ada\n",
    "                                                        #mengambil info harga per bulan\n",
    "                                                        harga = kamar.find('span', class_='item-price').text\n",
    "                                                        harga_per_bulan = harga_to_integer(harga)\n",
    "                                                        newKost = DataKost(nama_kost, alamat, daerah, kecamatan, kota, latitude, longitude, tipe_kost, tipe_kamar, luas_kamar, fasilitas_kamar, isKamarMandiDalam, fasilitas_kamar_mandi, fasilitas_gedung, harga_per_bulan)\n",
    "                                                        #newKost.printObject()\n",
    "                                                        listOfKost.append(newKost)\n",
    "                                                    else:\n",
    "                                                        #apabila fasilitas gedung tidak dicantumkan (bad data)\n",
    "                                                        pass\n",
    "                                                else:\n",
    "                                                    #tidak terdapat info apakah termasuk kamar mandi dalam (bad data)\n",
    "                                                    pass\n",
    "                                            else:\n",
    "                                                #apabila fasilitas kamar tidak dicantumkan (bad data)\n",
    "                                                pass\n",
    "                                    else:\n",
    "                                        pass\n",
    "                            time.sleep(3)\n",
    "                except (AttributeError):\n",
    "                    pass\n",
    "                except Exception as e:\n",
    "                    print(e)\n",
    "            print(f\"[Scraping halaman {page} berhasil!]\")\n",
    "            page +=1\n",
    "        except Exception as e:\n",
    "            print(\"\\n Error: \", e)\n",
    "            print(\"Error or Page finished\")\n",
    "            break\n",
    "\n",
    "    print(\" \")\n",
    "    print(f\"[Scraping dari halaman {firstpage} sampai halaman {lastpage} telah berhasil]\")\n"
   ]
  },
  {
   "attachments": {},
   "cell_type": "markdown",
   "metadata": {},
   "source": [
    "# Scraping infokost.id part 1"
   ]
  },
  {
   "cell_type": "code",
   "execution_count": 5,
   "metadata": {},
   "outputs": [
    {
     "name": "stdout",
     "output_type": "stream",
     "text": [
      " \n",
      "[SCRAPING] https://infokost.id/search-results/page/1/?location_search=Jakarta+Pusat%2C+Central+Jakarta+City%2C+Jakarta%2C+Indonesia&search_city=central-jakarta&search_area=central-jakarta-city&search_country=indonesia&lat=-6.1805113&lng=106.8283831 \n",
      "\n",
      "[Scraping halaman 1 berhasil!]\n",
      " \n",
      "[SCRAPING] https://infokost.id/search-results/page/2/?location_search=Jakarta+Pusat%2C+Central+Jakarta+City%2C+Jakarta%2C+Indonesia&search_city=central-jakarta&search_area=central-jakarta-city&search_country=indonesia&lat=-6.1805113&lng=106.8283831 \n",
      "\n",
      "[Scraping halaman 2 berhasil!]\n",
      " \n",
      "[SCRAPING] https://infokost.id/search-results/page/3/?location_search=Jakarta+Pusat%2C+Central+Jakarta+City%2C+Jakarta%2C+Indonesia&search_city=central-jakarta&search_area=central-jakarta-city&search_country=indonesia&lat=-6.1805113&lng=106.8283831 \n",
      "\n",
      "[Scraping halaman 3 berhasil!]\n",
      " \n",
      "[SCRAPING] https://infokost.id/search-results/page/4/?location_search=Jakarta+Pusat%2C+Central+Jakarta+City%2C+Jakarta%2C+Indonesia&search_city=central-jakarta&search_area=central-jakarta-city&search_country=indonesia&lat=-6.1805113&lng=106.8283831 \n",
      "\n",
      "[Scraping halaman 4 berhasil!]\n",
      " \n",
      "[SCRAPING] https://infokost.id/search-results/page/5/?location_search=Jakarta+Pusat%2C+Central+Jakarta+City%2C+Jakarta%2C+Indonesia&search_city=central-jakarta&search_area=central-jakarta-city&search_country=indonesia&lat=-6.1805113&lng=106.8283831 \n",
      "\n",
      "[Scraping halaman 5 berhasil!]\n",
      " \n",
      "[SCRAPING] https://infokost.id/search-results/page/6/?location_search=Jakarta+Pusat%2C+Central+Jakarta+City%2C+Jakarta%2C+Indonesia&search_city=central-jakarta&search_area=central-jakarta-city&search_country=indonesia&lat=-6.1805113&lng=106.8283831 \n",
      "\n",
      "[Scraping halaman 6 berhasil!]\n",
      " \n",
      "[SCRAPING] https://infokost.id/search-results/page/7/?location_search=Jakarta+Pusat%2C+Central+Jakarta+City%2C+Jakarta%2C+Indonesia&search_city=central-jakarta&search_area=central-jakarta-city&search_country=indonesia&lat=-6.1805113&lng=106.8283831 \n",
      "\n",
      "could not convert string to float: '2.5  × 3.5'\n",
      "[Scraping halaman 7 berhasil!]\n",
      " \n",
      "[SCRAPING] https://infokost.id/search-results/page/8/?location_search=Jakarta+Pusat%2C+Central+Jakarta+City%2C+Jakarta%2C+Indonesia&search_city=central-jakarta&search_area=central-jakarta-city&search_country=indonesia&lat=-6.1805113&lng=106.8283831 \n",
      "\n",
      "[Scraping halaman 8 berhasil!]\n",
      " \n",
      "[SCRAPING] https://infokost.id/search-results/page/9/?location_search=Jakarta+Pusat%2C+Central+Jakarta+City%2C+Jakarta%2C+Indonesia&search_city=central-jakarta&search_area=central-jakarta-city&search_country=indonesia&lat=-6.1805113&lng=106.8283831 \n",
      "\n",
      "[Scraping halaman 9 berhasil!]\n",
      " \n",
      "[SCRAPING] https://infokost.id/search-results/page/10/?location_search=Jakarta+Pusat%2C+Central+Jakarta+City%2C+Jakarta%2C+Indonesia&search_city=central-jakarta&search_area=central-jakarta-city&search_country=indonesia&lat=-6.1805113&lng=106.8283831 \n",
      "\n",
      "[Scraping halaman 10 berhasil!]\n",
      " \n",
      "[Scraping dari halaman 1 sampai halaman 10 telah berhasil]\n"
     ]
    }
   ],
   "source": [
    "#melakukan scraping page 1 - 50\n",
    "list_data_kost1 = []\n",
    "get_data_kost(list_data_kost1, 1, 10)"
   ]
  },
  {
   "cell_type": "code",
   "execution_count": 6,
   "metadata": {},
   "outputs": [
    {
     "data": {
      "text/plain": [
       "0"
      ]
     },
     "execution_count": 6,
     "metadata": {},
     "output_type": "execute_result"
    }
   ],
   "source": [
    "len(list_data_kost1)\n",
    "#mengecek datanya berhasil diambil dan tersimpan di list_data_kost1"
   ]
  },
  {
   "attachments": {},
   "cell_type": "markdown",
   "metadata": {},
   "source": [
    "# Scraping infokost.id part 2"
   ]
  },
  {
   "cell_type": "code",
   "execution_count": 10,
   "metadata": {},
   "outputs": [
    {
     "name": "stdout",
     "output_type": "stream",
     "text": [
      " \n",
      "[SCRAPING] https://infokost.id/search-results/page/51/ \n",
      "\n",
      "[Scraping halaman 51 berhasil!]\n",
      " \n",
      "[SCRAPING] https://infokost.id/search-results/page/52/ \n",
      "\n"
     ]
    },
    {
     "ename": "KeyboardInterrupt",
     "evalue": "",
     "output_type": "error",
     "traceback": [
      "\u001b[1;31m---------------------------------------------------------------------------\u001b[0m",
      "\u001b[1;31mKeyboardInterrupt\u001b[0m                         Traceback (most recent call last)",
      "\u001b[1;32m~\\AppData\\Local\\Temp\\ipykernel_10868\\113768860.py\u001b[0m in \u001b[0;36m<module>\u001b[1;34m\u001b[0m\n\u001b[0;32m      1\u001b[0m \u001b[1;31m#melakukan scraping page 51 - 100\u001b[0m\u001b[1;33m\u001b[0m\u001b[1;33m\u001b[0m\u001b[0m\n\u001b[0;32m      2\u001b[0m \u001b[0mlist_data_kost2\u001b[0m \u001b[1;33m=\u001b[0m \u001b[1;33m[\u001b[0m\u001b[1;33m]\u001b[0m\u001b[1;33m\u001b[0m\u001b[1;33m\u001b[0m\u001b[0m\n\u001b[1;32m----> 3\u001b[1;33m \u001b[0mget_data_kost\u001b[0m\u001b[1;33m(\u001b[0m\u001b[0mlist_data_kost2\u001b[0m\u001b[1;33m,\u001b[0m \u001b[1;36m51\u001b[0m\u001b[1;33m,\u001b[0m \u001b[1;36m100\u001b[0m\u001b[1;33m)\u001b[0m\u001b[1;33m\u001b[0m\u001b[1;33m\u001b[0m\u001b[0m\n\u001b[0m",
      "\u001b[1;32m~\\AppData\\Local\\Temp\\ipykernel_10868\\3956715254.py\u001b[0m in \u001b[0;36mget_data_kost\u001b[1;34m(listOfKost, firstpage, lastpage)\u001b[0m\n\u001b[0;32m     19\u001b[0m                     \u001b[0mspecific_url\u001b[0m \u001b[1;33m=\u001b[0m \u001b[0mkost\u001b[0m\u001b[1;33m.\u001b[0m\u001b[0mh2\u001b[0m\u001b[1;33m.\u001b[0m\u001b[0ma\u001b[0m\u001b[1;33m[\u001b[0m\u001b[1;34m\"href\"\u001b[0m\u001b[1;33m]\u001b[0m \u001b[1;31m#spesific url dari tiap item kost untuk mendapatkan info secara detail\u001b[0m\u001b[1;33m\u001b[0m\u001b[1;33m\u001b[0m\u001b[0m\n\u001b[0;32m     20\u001b[0m                     \u001b[0mspesific_page\u001b[0m \u001b[1;33m=\u001b[0m \u001b[0mRequest\u001b[0m\u001b[1;33m(\u001b[0m\u001b[0mspecific_url\u001b[0m\u001b[1;33m,\u001b[0m \u001b[0mheaders\u001b[0m\u001b[1;33m=\u001b[0m\u001b[0mheader\u001b[0m\u001b[1;33m)\u001b[0m\u001b[1;33m\u001b[0m\u001b[1;33m\u001b[0m\u001b[0m\n\u001b[1;32m---> 21\u001b[1;33m                     \u001b[0muClient\u001b[0m \u001b[1;33m=\u001b[0m \u001b[0muReq\u001b[0m\u001b[1;33m(\u001b[0m\u001b[0mspesific_page\u001b[0m\u001b[1;33m)\u001b[0m\u001b[1;33m\u001b[0m\u001b[1;33m\u001b[0m\u001b[0m\n\u001b[0m\u001b[0;32m     22\u001b[0m                     \u001b[0mspecific_html_text\u001b[0m \u001b[1;33m=\u001b[0m \u001b[0muClient\u001b[0m\u001b[1;33m.\u001b[0m\u001b[0mread\u001b[0m\u001b[1;33m(\u001b[0m\u001b[1;33m)\u001b[0m\u001b[1;33m\u001b[0m\u001b[1;33m\u001b[0m\u001b[0m\n\u001b[0;32m     23\u001b[0m                     \u001b[0muClient\u001b[0m\u001b[1;33m.\u001b[0m\u001b[0mclose\u001b[0m\u001b[1;33m(\u001b[0m\u001b[1;33m)\u001b[0m\u001b[1;33m\u001b[0m\u001b[1;33m\u001b[0m\u001b[0m\n",
      "\u001b[1;32mC:\\ProgramData\\Anaconda3\\lib\\urllib\\request.py\u001b[0m in \u001b[0;36murlopen\u001b[1;34m(url, data, timeout, cafile, capath, cadefault, context)\u001b[0m\n\u001b[0;32m    212\u001b[0m     \u001b[1;32melse\u001b[0m\u001b[1;33m:\u001b[0m\u001b[1;33m\u001b[0m\u001b[1;33m\u001b[0m\u001b[0m\n\u001b[0;32m    213\u001b[0m         \u001b[0mopener\u001b[0m \u001b[1;33m=\u001b[0m \u001b[0m_opener\u001b[0m\u001b[1;33m\u001b[0m\u001b[1;33m\u001b[0m\u001b[0m\n\u001b[1;32m--> 214\u001b[1;33m     \u001b[1;32mreturn\u001b[0m \u001b[0mopener\u001b[0m\u001b[1;33m.\u001b[0m\u001b[0mopen\u001b[0m\u001b[1;33m(\u001b[0m\u001b[0murl\u001b[0m\u001b[1;33m,\u001b[0m \u001b[0mdata\u001b[0m\u001b[1;33m,\u001b[0m \u001b[0mtimeout\u001b[0m\u001b[1;33m)\u001b[0m\u001b[1;33m\u001b[0m\u001b[1;33m\u001b[0m\u001b[0m\n\u001b[0m\u001b[0;32m    215\u001b[0m \u001b[1;33m\u001b[0m\u001b[0m\n\u001b[0;32m    216\u001b[0m \u001b[1;32mdef\u001b[0m \u001b[0minstall_opener\u001b[0m\u001b[1;33m(\u001b[0m\u001b[0mopener\u001b[0m\u001b[1;33m)\u001b[0m\u001b[1;33m:\u001b[0m\u001b[1;33m\u001b[0m\u001b[1;33m\u001b[0m\u001b[0m\n",
      "\u001b[1;32mC:\\ProgramData\\Anaconda3\\lib\\urllib\\request.py\u001b[0m in \u001b[0;36mopen\u001b[1;34m(self, fullurl, data, timeout)\u001b[0m\n\u001b[0;32m    515\u001b[0m \u001b[1;33m\u001b[0m\u001b[0m\n\u001b[0;32m    516\u001b[0m         \u001b[0msys\u001b[0m\u001b[1;33m.\u001b[0m\u001b[0maudit\u001b[0m\u001b[1;33m(\u001b[0m\u001b[1;34m'urllib.Request'\u001b[0m\u001b[1;33m,\u001b[0m \u001b[0mreq\u001b[0m\u001b[1;33m.\u001b[0m\u001b[0mfull_url\u001b[0m\u001b[1;33m,\u001b[0m \u001b[0mreq\u001b[0m\u001b[1;33m.\u001b[0m\u001b[0mdata\u001b[0m\u001b[1;33m,\u001b[0m \u001b[0mreq\u001b[0m\u001b[1;33m.\u001b[0m\u001b[0mheaders\u001b[0m\u001b[1;33m,\u001b[0m \u001b[0mreq\u001b[0m\u001b[1;33m.\u001b[0m\u001b[0mget_method\u001b[0m\u001b[1;33m(\u001b[0m\u001b[1;33m)\u001b[0m\u001b[1;33m)\u001b[0m\u001b[1;33m\u001b[0m\u001b[1;33m\u001b[0m\u001b[0m\n\u001b[1;32m--> 517\u001b[1;33m         \u001b[0mresponse\u001b[0m \u001b[1;33m=\u001b[0m \u001b[0mself\u001b[0m\u001b[1;33m.\u001b[0m\u001b[0m_open\u001b[0m\u001b[1;33m(\u001b[0m\u001b[0mreq\u001b[0m\u001b[1;33m,\u001b[0m \u001b[0mdata\u001b[0m\u001b[1;33m)\u001b[0m\u001b[1;33m\u001b[0m\u001b[1;33m\u001b[0m\u001b[0m\n\u001b[0m\u001b[0;32m    518\u001b[0m \u001b[1;33m\u001b[0m\u001b[0m\n\u001b[0;32m    519\u001b[0m         \u001b[1;31m# post-process response\u001b[0m\u001b[1;33m\u001b[0m\u001b[1;33m\u001b[0m\u001b[0m\n",
      "\u001b[1;32mC:\\ProgramData\\Anaconda3\\lib\\urllib\\request.py\u001b[0m in \u001b[0;36m_open\u001b[1;34m(self, req, data)\u001b[0m\n\u001b[0;32m    532\u001b[0m \u001b[1;33m\u001b[0m\u001b[0m\n\u001b[0;32m    533\u001b[0m         \u001b[0mprotocol\u001b[0m \u001b[1;33m=\u001b[0m \u001b[0mreq\u001b[0m\u001b[1;33m.\u001b[0m\u001b[0mtype\u001b[0m\u001b[1;33m\u001b[0m\u001b[1;33m\u001b[0m\u001b[0m\n\u001b[1;32m--> 534\u001b[1;33m         result = self._call_chain(self.handle_open, protocol, protocol +\n\u001b[0m\u001b[0;32m    535\u001b[0m                                   '_open', req)\n\u001b[0;32m    536\u001b[0m         \u001b[1;32mif\u001b[0m \u001b[0mresult\u001b[0m\u001b[1;33m:\u001b[0m\u001b[1;33m\u001b[0m\u001b[1;33m\u001b[0m\u001b[0m\n",
      "\u001b[1;32mC:\\ProgramData\\Anaconda3\\lib\\urllib\\request.py\u001b[0m in \u001b[0;36m_call_chain\u001b[1;34m(self, chain, kind, meth_name, *args)\u001b[0m\n\u001b[0;32m    492\u001b[0m         \u001b[1;32mfor\u001b[0m \u001b[0mhandler\u001b[0m \u001b[1;32min\u001b[0m \u001b[0mhandlers\u001b[0m\u001b[1;33m:\u001b[0m\u001b[1;33m\u001b[0m\u001b[1;33m\u001b[0m\u001b[0m\n\u001b[0;32m    493\u001b[0m             \u001b[0mfunc\u001b[0m \u001b[1;33m=\u001b[0m \u001b[0mgetattr\u001b[0m\u001b[1;33m(\u001b[0m\u001b[0mhandler\u001b[0m\u001b[1;33m,\u001b[0m \u001b[0mmeth_name\u001b[0m\u001b[1;33m)\u001b[0m\u001b[1;33m\u001b[0m\u001b[1;33m\u001b[0m\u001b[0m\n\u001b[1;32m--> 494\u001b[1;33m             \u001b[0mresult\u001b[0m \u001b[1;33m=\u001b[0m \u001b[0mfunc\u001b[0m\u001b[1;33m(\u001b[0m\u001b[1;33m*\u001b[0m\u001b[0margs\u001b[0m\u001b[1;33m)\u001b[0m\u001b[1;33m\u001b[0m\u001b[1;33m\u001b[0m\u001b[0m\n\u001b[0m\u001b[0;32m    495\u001b[0m             \u001b[1;32mif\u001b[0m \u001b[0mresult\u001b[0m \u001b[1;32mis\u001b[0m \u001b[1;32mnot\u001b[0m \u001b[1;32mNone\u001b[0m\u001b[1;33m:\u001b[0m\u001b[1;33m\u001b[0m\u001b[1;33m\u001b[0m\u001b[0m\n\u001b[0;32m    496\u001b[0m                 \u001b[1;32mreturn\u001b[0m \u001b[0mresult\u001b[0m\u001b[1;33m\u001b[0m\u001b[1;33m\u001b[0m\u001b[0m\n",
      "\u001b[1;32mC:\\ProgramData\\Anaconda3\\lib\\urllib\\request.py\u001b[0m in \u001b[0;36mhttps_open\u001b[1;34m(self, req)\u001b[0m\n\u001b[0;32m   1387\u001b[0m \u001b[1;33m\u001b[0m\u001b[0m\n\u001b[0;32m   1388\u001b[0m         \u001b[1;32mdef\u001b[0m \u001b[0mhttps_open\u001b[0m\u001b[1;33m(\u001b[0m\u001b[0mself\u001b[0m\u001b[1;33m,\u001b[0m \u001b[0mreq\u001b[0m\u001b[1;33m)\u001b[0m\u001b[1;33m:\u001b[0m\u001b[1;33m\u001b[0m\u001b[1;33m\u001b[0m\u001b[0m\n\u001b[1;32m-> 1389\u001b[1;33m             return self.do_open(http.client.HTTPSConnection, req,\n\u001b[0m\u001b[0;32m   1390\u001b[0m                 context=self._context, check_hostname=self._check_hostname)\n\u001b[0;32m   1391\u001b[0m \u001b[1;33m\u001b[0m\u001b[0m\n",
      "\u001b[1;32mC:\\ProgramData\\Anaconda3\\lib\\urllib\\request.py\u001b[0m in \u001b[0;36mdo_open\u001b[1;34m(self, http_class, req, **http_conn_args)\u001b[0m\n\u001b[0;32m   1348\u001b[0m             \u001b[1;32mexcept\u001b[0m \u001b[0mOSError\u001b[0m \u001b[1;32mas\u001b[0m \u001b[0merr\u001b[0m\u001b[1;33m:\u001b[0m \u001b[1;31m# timeout error\u001b[0m\u001b[1;33m\u001b[0m\u001b[1;33m\u001b[0m\u001b[0m\n\u001b[0;32m   1349\u001b[0m                 \u001b[1;32mraise\u001b[0m \u001b[0mURLError\u001b[0m\u001b[1;33m(\u001b[0m\u001b[0merr\u001b[0m\u001b[1;33m)\u001b[0m\u001b[1;33m\u001b[0m\u001b[1;33m\u001b[0m\u001b[0m\n\u001b[1;32m-> 1350\u001b[1;33m             \u001b[0mr\u001b[0m \u001b[1;33m=\u001b[0m \u001b[0mh\u001b[0m\u001b[1;33m.\u001b[0m\u001b[0mgetresponse\u001b[0m\u001b[1;33m(\u001b[0m\u001b[1;33m)\u001b[0m\u001b[1;33m\u001b[0m\u001b[1;33m\u001b[0m\u001b[0m\n\u001b[0m\u001b[0;32m   1351\u001b[0m         \u001b[1;32mexcept\u001b[0m\u001b[1;33m:\u001b[0m\u001b[1;33m\u001b[0m\u001b[1;33m\u001b[0m\u001b[0m\n\u001b[0;32m   1352\u001b[0m             \u001b[0mh\u001b[0m\u001b[1;33m.\u001b[0m\u001b[0mclose\u001b[0m\u001b[1;33m(\u001b[0m\u001b[1;33m)\u001b[0m\u001b[1;33m\u001b[0m\u001b[1;33m\u001b[0m\u001b[0m\n",
      "\u001b[1;32mC:\\ProgramData\\Anaconda3\\lib\\http\\client.py\u001b[0m in \u001b[0;36mgetresponse\u001b[1;34m(self)\u001b[0m\n\u001b[0;32m   1375\u001b[0m         \u001b[1;32mtry\u001b[0m\u001b[1;33m:\u001b[0m\u001b[1;33m\u001b[0m\u001b[1;33m\u001b[0m\u001b[0m\n\u001b[0;32m   1376\u001b[0m             \u001b[1;32mtry\u001b[0m\u001b[1;33m:\u001b[0m\u001b[1;33m\u001b[0m\u001b[1;33m\u001b[0m\u001b[0m\n\u001b[1;32m-> 1377\u001b[1;33m                 \u001b[0mresponse\u001b[0m\u001b[1;33m.\u001b[0m\u001b[0mbegin\u001b[0m\u001b[1;33m(\u001b[0m\u001b[1;33m)\u001b[0m\u001b[1;33m\u001b[0m\u001b[1;33m\u001b[0m\u001b[0m\n\u001b[0m\u001b[0;32m   1378\u001b[0m             \u001b[1;32mexcept\u001b[0m \u001b[0mConnectionError\u001b[0m\u001b[1;33m:\u001b[0m\u001b[1;33m\u001b[0m\u001b[1;33m\u001b[0m\u001b[0m\n\u001b[0;32m   1379\u001b[0m                 \u001b[0mself\u001b[0m\u001b[1;33m.\u001b[0m\u001b[0mclose\u001b[0m\u001b[1;33m(\u001b[0m\u001b[1;33m)\u001b[0m\u001b[1;33m\u001b[0m\u001b[1;33m\u001b[0m\u001b[0m\n",
      "\u001b[1;32mC:\\ProgramData\\Anaconda3\\lib\\http\\client.py\u001b[0m in \u001b[0;36mbegin\u001b[1;34m(self)\u001b[0m\n\u001b[0;32m    318\u001b[0m         \u001b[1;31m# read until we get a non-100 response\u001b[0m\u001b[1;33m\u001b[0m\u001b[1;33m\u001b[0m\u001b[0m\n\u001b[0;32m    319\u001b[0m         \u001b[1;32mwhile\u001b[0m \u001b[1;32mTrue\u001b[0m\u001b[1;33m:\u001b[0m\u001b[1;33m\u001b[0m\u001b[1;33m\u001b[0m\u001b[0m\n\u001b[1;32m--> 320\u001b[1;33m             \u001b[0mversion\u001b[0m\u001b[1;33m,\u001b[0m \u001b[0mstatus\u001b[0m\u001b[1;33m,\u001b[0m \u001b[0mreason\u001b[0m \u001b[1;33m=\u001b[0m \u001b[0mself\u001b[0m\u001b[1;33m.\u001b[0m\u001b[0m_read_status\u001b[0m\u001b[1;33m(\u001b[0m\u001b[1;33m)\u001b[0m\u001b[1;33m\u001b[0m\u001b[1;33m\u001b[0m\u001b[0m\n\u001b[0m\u001b[0;32m    321\u001b[0m             \u001b[1;32mif\u001b[0m \u001b[0mstatus\u001b[0m \u001b[1;33m!=\u001b[0m \u001b[0mCONTINUE\u001b[0m\u001b[1;33m:\u001b[0m\u001b[1;33m\u001b[0m\u001b[1;33m\u001b[0m\u001b[0m\n\u001b[0;32m    322\u001b[0m                 \u001b[1;32mbreak\u001b[0m\u001b[1;33m\u001b[0m\u001b[1;33m\u001b[0m\u001b[0m\n",
      "\u001b[1;32mC:\\ProgramData\\Anaconda3\\lib\\http\\client.py\u001b[0m in \u001b[0;36m_read_status\u001b[1;34m(self)\u001b[0m\n\u001b[0;32m    279\u001b[0m \u001b[1;33m\u001b[0m\u001b[0m\n\u001b[0;32m    280\u001b[0m     \u001b[1;32mdef\u001b[0m \u001b[0m_read_status\u001b[0m\u001b[1;33m(\u001b[0m\u001b[0mself\u001b[0m\u001b[1;33m)\u001b[0m\u001b[1;33m:\u001b[0m\u001b[1;33m\u001b[0m\u001b[1;33m\u001b[0m\u001b[0m\n\u001b[1;32m--> 281\u001b[1;33m         \u001b[0mline\u001b[0m \u001b[1;33m=\u001b[0m \u001b[0mstr\u001b[0m\u001b[1;33m(\u001b[0m\u001b[0mself\u001b[0m\u001b[1;33m.\u001b[0m\u001b[0mfp\u001b[0m\u001b[1;33m.\u001b[0m\u001b[0mreadline\u001b[0m\u001b[1;33m(\u001b[0m\u001b[0m_MAXLINE\u001b[0m \u001b[1;33m+\u001b[0m \u001b[1;36m1\u001b[0m\u001b[1;33m)\u001b[0m\u001b[1;33m,\u001b[0m \u001b[1;34m\"iso-8859-1\"\u001b[0m\u001b[1;33m)\u001b[0m\u001b[1;33m\u001b[0m\u001b[1;33m\u001b[0m\u001b[0m\n\u001b[0m\u001b[0;32m    282\u001b[0m         \u001b[1;32mif\u001b[0m \u001b[0mlen\u001b[0m\u001b[1;33m(\u001b[0m\u001b[0mline\u001b[0m\u001b[1;33m)\u001b[0m \u001b[1;33m>\u001b[0m \u001b[0m_MAXLINE\u001b[0m\u001b[1;33m:\u001b[0m\u001b[1;33m\u001b[0m\u001b[1;33m\u001b[0m\u001b[0m\n\u001b[0;32m    283\u001b[0m             \u001b[1;32mraise\u001b[0m \u001b[0mLineTooLong\u001b[0m\u001b[1;33m(\u001b[0m\u001b[1;34m\"status line\"\u001b[0m\u001b[1;33m)\u001b[0m\u001b[1;33m\u001b[0m\u001b[1;33m\u001b[0m\u001b[0m\n",
      "\u001b[1;32mC:\\ProgramData\\Anaconda3\\lib\\socket.py\u001b[0m in \u001b[0;36mreadinto\u001b[1;34m(self, b)\u001b[0m\n\u001b[0;32m    702\u001b[0m         \u001b[1;32mwhile\u001b[0m \u001b[1;32mTrue\u001b[0m\u001b[1;33m:\u001b[0m\u001b[1;33m\u001b[0m\u001b[1;33m\u001b[0m\u001b[0m\n\u001b[0;32m    703\u001b[0m             \u001b[1;32mtry\u001b[0m\u001b[1;33m:\u001b[0m\u001b[1;33m\u001b[0m\u001b[1;33m\u001b[0m\u001b[0m\n\u001b[1;32m--> 704\u001b[1;33m                 \u001b[1;32mreturn\u001b[0m \u001b[0mself\u001b[0m\u001b[1;33m.\u001b[0m\u001b[0m_sock\u001b[0m\u001b[1;33m.\u001b[0m\u001b[0mrecv_into\u001b[0m\u001b[1;33m(\u001b[0m\u001b[0mb\u001b[0m\u001b[1;33m)\u001b[0m\u001b[1;33m\u001b[0m\u001b[1;33m\u001b[0m\u001b[0m\n\u001b[0m\u001b[0;32m    705\u001b[0m             \u001b[1;32mexcept\u001b[0m \u001b[0mtimeout\u001b[0m\u001b[1;33m:\u001b[0m\u001b[1;33m\u001b[0m\u001b[1;33m\u001b[0m\u001b[0m\n\u001b[0;32m    706\u001b[0m                 \u001b[0mself\u001b[0m\u001b[1;33m.\u001b[0m\u001b[0m_timeout_occurred\u001b[0m \u001b[1;33m=\u001b[0m \u001b[1;32mTrue\u001b[0m\u001b[1;33m\u001b[0m\u001b[1;33m\u001b[0m\u001b[0m\n",
      "\u001b[1;32mC:\\ProgramData\\Anaconda3\\lib\\ssl.py\u001b[0m in \u001b[0;36mrecv_into\u001b[1;34m(self, buffer, nbytes, flags)\u001b[0m\n\u001b[0;32m   1240\u001b[0m                   \u001b[1;34m\"non-zero flags not allowed in calls to recv_into() on %s\"\u001b[0m \u001b[1;33m%\u001b[0m\u001b[1;33m\u001b[0m\u001b[1;33m\u001b[0m\u001b[0m\n\u001b[0;32m   1241\u001b[0m                   self.__class__)\n\u001b[1;32m-> 1242\u001b[1;33m             \u001b[1;32mreturn\u001b[0m \u001b[0mself\u001b[0m\u001b[1;33m.\u001b[0m\u001b[0mread\u001b[0m\u001b[1;33m(\u001b[0m\u001b[0mnbytes\u001b[0m\u001b[1;33m,\u001b[0m \u001b[0mbuffer\u001b[0m\u001b[1;33m)\u001b[0m\u001b[1;33m\u001b[0m\u001b[1;33m\u001b[0m\u001b[0m\n\u001b[0m\u001b[0;32m   1243\u001b[0m         \u001b[1;32melse\u001b[0m\u001b[1;33m:\u001b[0m\u001b[1;33m\u001b[0m\u001b[1;33m\u001b[0m\u001b[0m\n\u001b[0;32m   1244\u001b[0m             \u001b[1;32mreturn\u001b[0m \u001b[0msuper\u001b[0m\u001b[1;33m(\u001b[0m\u001b[1;33m)\u001b[0m\u001b[1;33m.\u001b[0m\u001b[0mrecv_into\u001b[0m\u001b[1;33m(\u001b[0m\u001b[0mbuffer\u001b[0m\u001b[1;33m,\u001b[0m \u001b[0mnbytes\u001b[0m\u001b[1;33m,\u001b[0m \u001b[0mflags\u001b[0m\u001b[1;33m)\u001b[0m\u001b[1;33m\u001b[0m\u001b[1;33m\u001b[0m\u001b[0m\n",
      "\u001b[1;32mC:\\ProgramData\\Anaconda3\\lib\\ssl.py\u001b[0m in \u001b[0;36mread\u001b[1;34m(self, len, buffer)\u001b[0m\n\u001b[0;32m   1098\u001b[0m         \u001b[1;32mtry\u001b[0m\u001b[1;33m:\u001b[0m\u001b[1;33m\u001b[0m\u001b[1;33m\u001b[0m\u001b[0m\n\u001b[0;32m   1099\u001b[0m             \u001b[1;32mif\u001b[0m \u001b[0mbuffer\u001b[0m \u001b[1;32mis\u001b[0m \u001b[1;32mnot\u001b[0m \u001b[1;32mNone\u001b[0m\u001b[1;33m:\u001b[0m\u001b[1;33m\u001b[0m\u001b[1;33m\u001b[0m\u001b[0m\n\u001b[1;32m-> 1100\u001b[1;33m                 \u001b[1;32mreturn\u001b[0m \u001b[0mself\u001b[0m\u001b[1;33m.\u001b[0m\u001b[0m_sslobj\u001b[0m\u001b[1;33m.\u001b[0m\u001b[0mread\u001b[0m\u001b[1;33m(\u001b[0m\u001b[0mlen\u001b[0m\u001b[1;33m,\u001b[0m \u001b[0mbuffer\u001b[0m\u001b[1;33m)\u001b[0m\u001b[1;33m\u001b[0m\u001b[1;33m\u001b[0m\u001b[0m\n\u001b[0m\u001b[0;32m   1101\u001b[0m             \u001b[1;32melse\u001b[0m\u001b[1;33m:\u001b[0m\u001b[1;33m\u001b[0m\u001b[1;33m\u001b[0m\u001b[0m\n\u001b[0;32m   1102\u001b[0m                 \u001b[1;32mreturn\u001b[0m \u001b[0mself\u001b[0m\u001b[1;33m.\u001b[0m\u001b[0m_sslobj\u001b[0m\u001b[1;33m.\u001b[0m\u001b[0mread\u001b[0m\u001b[1;33m(\u001b[0m\u001b[0mlen\u001b[0m\u001b[1;33m)\u001b[0m\u001b[1;33m\u001b[0m\u001b[1;33m\u001b[0m\u001b[0m\n",
      "\u001b[1;31mKeyboardInterrupt\u001b[0m: "
     ]
    }
   ],
   "source": [
    "#melakukan scraping page 51 - 100\n",
    "list_data_kost2 = []\n",
    "get_data_kost(list_data_kost2, 51, 100)"
   ]
  },
  {
   "cell_type": "code",
   "execution_count": null,
   "metadata": {},
   "outputs": [],
   "source": [
    "len(list_data_kost2)\n",
    "#mengecek datanya berhasil diambil dan tersimpan di list_data_kost2"
   ]
  },
  {
   "attachments": {},
   "cell_type": "markdown",
   "metadata": {},
   "source": [
    "# Merge Data"
   ]
  },
  {
   "cell_type": "code",
   "execution_count": null,
   "metadata": {},
   "outputs": [],
   "source": [
    "allKost = list_data_kost1 + list_data_kost2 #merge data keseluruhan\n",
    "len(allKost) #cek length keseluruhan"
   ]
  },
  {
   "attachments": {},
   "cell_type": "markdown",
   "metadata": {},
   "source": [
    "# Output ke format JSON"
   ]
  },
  {
   "cell_type": "code",
   "execution_count": null,
   "metadata": {},
   "outputs": [],
   "source": [
    "#convert list kosan to json\n",
    "with open('Data Kost.json', 'w') as data:\n",
    "    json.dump([obj.__dict__ for obj in allKost], data, indent=4)"
   ]
  },
  {
   "cell_type": "code",
   "execution_count": null,
   "metadata": {},
   "outputs": [],
   "source": []
  }
 ],
 "metadata": {
  "kernelspec": {
   "display_name": "Python 3 (ipykernel)",
   "language": "python",
   "name": "python3"
  },
  "language_info": {
   "codemirror_mode": {
    "name": "ipython",
    "version": 3
   },
   "file_extension": ".py",
   "mimetype": "text/x-python",
   "name": "python",
   "nbconvert_exporter": "python",
   "pygments_lexer": "ipython3",
   "version": "3.9.13"
  },
  "vscode": {
   "interpreter": {
    "hash": "5280f18410e8d3b905ab64ceef27d30114d7efa8935e83f68d6c978d8c288b8c"
   }
  }
 },
 "nbformat": 4,
 "nbformat_minor": 2
}
