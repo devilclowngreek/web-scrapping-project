{
  "cells": [
    {
      "attachments": {},
      "cell_type": "markdown",
      "metadata": {
        "id": "cmtZn2iJ5vip"
      },
      "source": [
        "# **Scraping Hotel Rooms**"
      ]
    },
    {
      "cell_type": "markdown",
      "metadata": {
        "id": "cb67d13pkCGa"
      },
      "source": [
        "### Initialisation"
      ]
    },
    {
      "cell_type": "code",
      "execution_count": 1,
      "metadata": {
        "id": "IAtYdhsvjyLQ"
      },
      "outputs": [],
      "source": [
        "import pandas as pd\n",
        "import numpy as np\n",
        "import requests, json, math, datetime\n",
        "from tqdm import tqdm\n",
        "from datetime import datetime as dt\n",
        "from datetime import date\n",
        "from urllib.parse import quote\n",
        "\n",
        "# cities and the corresponding geocodes\n",
        "city_geocodes = {\n",
        "    'Badung': 102758,\n",
        "    'Denpasar': 102747,\n",
        "    'Gianyar': 102770\n",
        "}\n",
        "\n",
        "\n",
        "# api url\n",
        "api_url = 'https://www.traveloka.com/api/v2/hotel/searchList'\n",
        "\n",
        "# all the collected data will be stored in this list\n",
        "_data_ = []"
      ]
    },
    {
      "cell_type": "markdown",
      "metadata": {
        "id": "GtBNiz5AnWpT"
      },
      "source": [
        "###Functions"
      ]
    },
    {
      "cell_type": "code",
      "execution_count": 2,
      "metadata": {
        "id": "crKDt6YD6zsY"
      },
      "outputs": [],
      "source": [
        "# padding the number with '0' into two-digit format \n",
        "def padNumber(num):\n",
        "  return str(num).rjust(2,'0')\n",
        "\n",
        "\n",
        "# collect data based on the selected reservation at each city in `cities`\n",
        "def collectData(response):\n",
        "  global columns\n",
        "  hotels = []\n",
        "  \n",
        "  for _, entry in enumerate(tqdm(response['data']['entries'])):\n",
        "    try:\n",
        "      sample = entry['data']['inventoryList'][0]\n",
        "    except:      \n",
        "      sample = entry['data']\n",
        "    \n",
        "    record = {'timestamp': dt.now(), 'city': city,'checkin': startdate,'checkout': enddate,'num_staying_nights':checkin_numnights}\n",
        "\n",
        "    # try:\n",
        "    #   print(sample['displayName'])\n",
        "    # except:\n",
        "    #   print(sample)\n",
        "    #   break\n",
        "    \n",
        "\n",
        "    for c in columns:\n",
        "      try:\n",
        "        if c == 'hotelFeatures':\n",
        "          record.update({c:', '.join([c_['text'] for c_ in sample[c]])})\n",
        "          continue\n",
        "        if c == 'hotelInventorySummary':\n",
        "          record.update({\n",
        "              'cheapestRate_allNights_baseFare': sample[c]['cheapestRateDisplay']['baseFare']['amount'],\n",
        "              'cheapestRate_allNights_fees': sample[c]['cheapestRateDisplay']['fees']['amount'],\n",
        "              'cheapestRate_allNights_taxes': sample[c]['cheapestRateDisplay']['taxes']['amount'],\n",
        "              'cheapestRate_allNights_totalFare': sample[c]['cheapestRateDisplay']['totalFare']['amount'],\n",
        "              'cheapestRate_perNight_baseFare': int(float(sample[c]['cheapestRateDisplay']['baseFare']['amount']) / checkin_numnights),\n",
        "              'cheapestRate_perNight_fees': round(float(sample[c]['cheapestRateDisplay']['fees']['amount']) / checkin_numnights,2),\n",
        "              'cheapestRate_perNight_taxes': round(float(sample[c]['cheapestRateDisplay']['taxes']['amount']) / checkin_numnights,2),\n",
        "              'cheapestRate_perNight_totalFare': round(float(sample[c]['cheapestRateDisplay']['totalFare']['amount']) / checkin_numnights),\n",
        "              'originalRate_allNights_baseFare': sample[c]['originalRateDisplay']['baseFare']['amount'],\n",
        "              'originalRate_allNights_fees': sample[c]['originalRateDisplay']['fees']['amount'],\n",
        "              'originalRate_allNights_taxes': sample[c]['originalRateDisplay']['taxes']['amount'],\n",
        "              'originalRate_allNights_totalFare': sample[c]['originalRateDisplay']['totalFare']['amount'],\n",
        "              'originalRate_perNight_baseFare': int(float(sample[c]['originalRateDisplay']['baseFare']['amount']) / checkin_numnights),\n",
        "              'originalRate_perNight_fees': round(float(sample[c]['originalRateDisplay']['fees']['amount']) / checkin_numnights,2),\n",
        "              'originalRate_perNight_taxes': round(float(sample[c]['originalRateDisplay']['taxes']['amount']) / checkin_numnights,2),\n",
        "              'originalRate_perNight_totalFare': round(float(sample[c]['originalRateDisplay']['totalFare']['amount']) / checkin_numnights)\n",
        "          })    \n",
        "          continue\n",
        "        record[c] = sample[c]\n",
        "      except:\n",
        "        record[c] = '-'\n",
        "    hotels.append(record)\n",
        "  return hotels"
      ]
    },
    {
      "cell_type": "markdown",
      "metadata": {
        "id": "ruHkvMiInZvS"
      },
      "source": [
        "###Scraping"
      ]
    },
    {
      "cell_type": "code",
      "execution_count": 3,
      "metadata": {
        "colab": {
          "base_uri": "https://localhost:8080/"
        },
        "id": "Aq9AOGuT-haU",
        "outputId": "7fa2b97e-5c13-4d60-8649-e41b33cdb688"
      },
      "outputs": [
        {
          "name": "stdout",
          "output_type": "stream",
          "text": [
            "Scraping All Available Hotel Rooms, Checkin 27-03-2023, Checkout:28-03-2023, Staying nights: 1:\n",
            "\n",
            "\n",
            "BADUNG\n",
            "preparing post ...\n",
            "preparing data collection ...\n"
          ]
        },
        {
          "name": "stderr",
          "output_type": "stream",
          "text": [
            "100%|██████████| 76/76 [00:00<00:00, 37484.37it/s]"
          ]
        },
        {
          "name": "stdout",
          "output_type": "stream",
          "text": [
            "\n",
            "\n",
            "DENPASAR\n",
            "preparing post ...\n"
          ]
        },
        {
          "name": "stderr",
          "output_type": "stream",
          "text": [
            "\n"
          ]
        },
        {
          "name": "stdout",
          "output_type": "stream",
          "text": [
            "preparing data collection ...\n"
          ]
        },
        {
          "name": "stderr",
          "output_type": "stream",
          "text": [
            "100%|██████████| 67/67 [00:00<00:00, 33582.50it/s]"
          ]
        },
        {
          "name": "stdout",
          "output_type": "stream",
          "text": [
            "\n",
            "\n",
            "GIANYAR\n",
            "preparing post ...\n"
          ]
        },
        {
          "name": "stderr",
          "output_type": "stream",
          "text": [
            "\n"
          ]
        },
        {
          "name": "stdout",
          "output_type": "stream",
          "text": [
            "preparing data collection ...\n"
          ]
        },
        {
          "name": "stderr",
          "output_type": "stream",
          "text": [
            "100%|██████████| 2/2 [00:00<?, ?it/s]"
          ]
        },
        {
          "name": "stdout",
          "output_type": "stream",
          "text": [
            "\n",
            "\n",
            "Num of obtained records: 145\n",
            "\n"
          ]
        },
        {
          "name": "stderr",
          "output_type": "stream",
          "text": [
            "\n"
          ]
        }
      ],
      "source": [
        "# reservation\n",
        "curyear = date.today().year # current year\n",
        "startdd, startmm = 27, 3 # check in date and month\n",
        "enddd, endmm = 28, 3 # check out date and month\n",
        "\n",
        "# staying range\n",
        "startdate = padNumber(startdd) + '-' + padNumber(startmm) + '-' + str(curyear)\n",
        "enddate = padNumber(enddd) + '-' + padNumber(endmm) + '-' + str(curyear)\n",
        "\n",
        "# number of staying night(s)\n",
        "checkin_numnights = (dt.strptime(enddate, '%d-%m-%Y')-dt.strptime(startdate, '%d-%m-%Y')).days\n",
        "\n",
        "\n",
        "# data columns to be extracted\n",
        "columns = ['id','name', 'displayName', 'accomPropertyType', 'region', 'starRating', 'userRating','showedFacilityTypes','numReviews','userRatingInfo',\n",
        "           'latitude','longitude','lowRate','highRate',\n",
        "           'hotelFeatures','hotelSeoUrl','hotelInventorySummary']\n",
        "\n",
        "print(f'Scraping All Available Hotel Rooms, Checkin {startdate}, Checkout:{enddate}, Staying nights: {checkin_numnights}:')\n",
        "print()\n",
        "\n",
        "for city in city_geocodes.keys():\n",
        "  print()\n",
        "  geocode = city_geocodes[city]\n",
        "  print(city.upper())\n",
        "\n",
        "  # referer url\n",
        "  referer_url = f'https://www.traveloka.com/id-id/hotel/search?spec={startdate}.{enddate}.1.1.HOTEL_GEO.{geocode}.{quote(city)}.2'\n",
        "\n",
        "  # headers\n",
        "  headers = {\n",
        "      'content-type': 'application/json',\n",
        "      'cookie': '_gcl_au=1.1.141782728.1670394296; _gac_UA-29776811-12=1.1670394296.Cj0KCQiA7bucBhCeARIsAIOwr-9NHNVdQqtQnRrovoGHLpACWxlx50k6KyMR6yMRUacNvmsKp_P3V7EaAsihEALw_wcB; tv-repeat-visit=true; _gid=GA1.2.137383459.1672284459; g_state={\"i_l\":1,\"i_p\":1672291669115}; _ga=GA1.1.1144801166.1670394296; amp_1a5adb=lmXek5GnRbmDVMBIye772l...1gldunjc7.1gldup1ge.c.0.c; tvl=qgdHX7GvehrD9XH5a3S4PdE8AYpuF3hYPaT5bxhY7ZYlTfL+WyvcrSI/VxnhD+GdIauD2fuQAp48xn5SOy61CcGKsORldom9dTN23+66MAYIHEn0dmPxsmhM3nEpAG8sgD1ega4KxIBCDYlQGDuVKUzPw3pNExw5Cd1OxjjrNg3vlyHfFnPptZUxAgMVwRNSCMYWUJplNNMY2P4/83O9X+8GNrPf8Ng75ZieUaJama8=; tvs=qgdHX7GvehrD9XH5a3S4PWL3Nd74xArIuT+JzcRMbKddQHovERAJ9HWRLrAaZ0jPhWj5HSxm0ZKiRbldET1ham2PeYg1sQr2h/wIBjIyPQ1JQfOnq9PrXiJXCb7pG+GuL55zGx9BHnW6AktSohrCEcVZJJEBlMy+/xGmAFjHYdanG44/La0X6wsaDJDc5dQI3jW7f6f85zK7XA1xLrLbn3wpMY91AYFzJ6h8za/vSrng40uUoDT+qJIv0oQGNB1A; _fbp=fb.1.1672284509886.851897136; cto_bundle=LLTD719vOXhjJTJCWjlPeGhpNUJ1VEVFdHpLdUVraHZLa1Fkem44UDZ4R3FlNnRIcGhuaG8zSWhlVFd4TyUyRm5JOVUlMkZTSGJVZ2UyaDVsVWVzWm9ETlBRSTRweTlGRDg2eE81WnVHNXhzJTJGNkZsaVRlTzRHUGVzQ2llQTFXbVN0a3B2OXBSdWpXYWR5cXU5SGpjZTQ5SFk5dzRqR2NwUSUzRCUzRA; _ga_RSRSMMBH0X=GS1.1.1672284458.2.1.1672284554.60.0.0',\n",
        "      'origin': 'https://www.traveloka.com',\n",
        "      'referer': referer_url,\n",
        "      'user-agent': 'Mozilla/5.0 (Windows NT 10.0; Win64; x64) AppleWebKit/537.36 (KHTML, like Gecko) Chrome/108.0.0.0 Safari/537.36',\n",
        "      'x-domain': 'accomSearch',\n",
        "      'x-route-prefix': 'id-id'    \n",
        "  }\n",
        "\n",
        "  # payload\n",
        "  payload = '{\"fields\":[],\"data\":{\"checkInDate\":{\"year\":\"'+startdate.split('-')[-1]+'\",\"month\":\"'+str(startmm)+'\",\"day\":\"'+str(startdd)+'\"},\"checkOutDate\":{\"year\":\"'+enddate.split('-')[-1]+'\",\"month\":\"'+str(endmm)+'\",\"day\":\"'+str(enddd)+'\"},\"numOfNights\":'+str(checkin_numnights)+',\"currency\":\"IDR\",\"numAdults\":1,\"numChildren\":0,\"childAges\":[],\"numInfants\":0,\"numRooms\":1,\"ccGuaranteeOptions\":{\"ccInfoPreferences\":[\"CC_TOKEN\",\"CC_FULL_INFO\"],\"ccGuaranteeRequirementOptions\":[\"CC_GUARANTEE\"]},\"rateTypes\":[\"PAY_NOW\",\"PAY_AT_PROPERTY\"],\"isJustLogin\":false,\"backdate\":false,\"geoId\":\"'+str(geocode)+'\",\"monitoringSpec\":{\"lastKeyword\":\"'+city+'\",\"referrer\":\"'+referer_url+'\",\"searchId\":null,\"searchFunnelType\":null,\"isPriceFinderActive\":null,\"dateIndicator\":null,\"bannerMessage\":\"\",\"displayPrice\":null},\"showHidden\":false,\"locationName\":\"'+city+'\",\"sourceType\":\"HOTEL_GEO\",\"isExtraBedIncluded\":true,\"isUseHotelSearchListAPI\":true,\"supportedDisplayTypes\":[\"INVENTORY\",\"INVENTORY_LIST\",\"HEADER\",\"INVENTORY_WITH_HEADER\"],\"userSearchPreferences\":[],\"uniqueSearchId\":null,\"basicFilterSortSpec\":{\"basicSortType\":\"POPULARITY\",\"ascending\":false,\"criteriaFilterSortSpec\":null,\"starRatingFilter\":[true,true,false,false,false],\"facilityFilter\":[],\"showedFacilityTypes\":[],\"hasFreeCancellationRooms\":false,\"minPriceFilter\":null,\"maxPriceFilter\":null,\"quickFilterId\":null,\"skip\":0,\"top\":100},\"criteriaFilterSortSpec\":null,\"boundaries\":null,\"contexts\":{\"isFamilyCheckbox\":false}},\"clientInterface\":\"desktop\"}'\n",
        "  \n",
        "  # try:\n",
        "  print('preparing post ...')\n",
        "  page = requests.post(api_url, headers=headers, json=json.loads(payload))\n",
        "  print('preparing data collection ...')\n",
        "  response = json.loads(page.text)\n",
        "  _data_ += collectData(response)\n",
        "  print()\n",
        "  # except:\n",
        "    # print(f'Error: Failed to Extract Data\\n Error: {page}')\n",
        "    # print('detail Error:')\n",
        "    # print(page.text)\n",
        "    # break\n",
        "\n",
        "  \n",
        "print()\n",
        "print(f'Num of obtained records: {len(_data_)}')\n",
        "print()\n"
      ]
    },
    {
      "cell_type": "markdown",
      "metadata": {
        "id": "HdFyrU3toXol"
      },
      "source": [
        "###Scraping Result Checks"
      ]
    },
    {
      "cell_type": "code",
      "execution_count": 4,
      "metadata": {
        "colab": {
          "base_uri": "https://localhost:8080/",
          "height": 525
        },
        "id": "HR8Xm1t5LAyl",
        "outputId": "24973241-3046-4893-ab36-9efd9c8a5525"
      },
      "outputs": [
        {
          "data": {
            "text/html": [
              "<div>\n",
              "<style scoped>\n",
              "    .dataframe tbody tr th:only-of-type {\n",
              "        vertical-align: middle;\n",
              "    }\n",
              "\n",
              "    .dataframe tbody tr th {\n",
              "        vertical-align: top;\n",
              "    }\n",
              "\n",
              "    .dataframe thead th {\n",
              "        text-align: right;\n",
              "    }\n",
              "</style>\n",
              "<table border=\"1\" class=\"dataframe\">\n",
              "  <thead>\n",
              "    <tr style=\"text-align: right;\">\n",
              "      <th></th>\n",
              "      <th>timestamp</th>\n",
              "      <th>city</th>\n",
              "      <th>checkin</th>\n",
              "      <th>checkout</th>\n",
              "      <th>num_staying_nights</th>\n",
              "      <th>id</th>\n",
              "      <th>name</th>\n",
              "      <th>displayName</th>\n",
              "      <th>accomPropertyType</th>\n",
              "      <th>region</th>\n",
              "      <th>...</th>\n",
              "      <th>cheapestRate_perNight_taxes</th>\n",
              "      <th>cheapestRate_perNight_totalFare</th>\n",
              "      <th>originalRate_allNights_baseFare</th>\n",
              "      <th>originalRate_allNights_fees</th>\n",
              "      <th>originalRate_allNights_taxes</th>\n",
              "      <th>originalRate_allNights_totalFare</th>\n",
              "      <th>originalRate_perNight_baseFare</th>\n",
              "      <th>originalRate_perNight_fees</th>\n",
              "      <th>originalRate_perNight_taxes</th>\n",
              "      <th>originalRate_perNight_totalFare</th>\n",
              "    </tr>\n",
              "  </thead>\n",
              "  <tbody>\n",
              "    <tr>\n",
              "      <th>0</th>\n",
              "      <td>2023-03-27 11:15:55.436196</td>\n",
              "      <td>Badung</td>\n",
              "      <td>27-03-2023</td>\n",
              "      <td>28-03-2023</td>\n",
              "      <td>1</td>\n",
              "      <td>9000001049559</td>\n",
              "      <td>Taman Dharmawangsa Suites</td>\n",
              "      <td>Taman Dharmawangsa Suites</td>\n",
              "      <td>Vila</td>\n",
              "      <td>Nusa Dua, Badung</td>\n",
              "      <td>...</td>\n",
              "      <td>0.0</td>\n",
              "      <td>1572873</td>\n",
              "      <td>2975207</td>\n",
              "      <td>263782</td>\n",
              "      <td>0</td>\n",
              "      <td>3238989</td>\n",
              "      <td>2975207</td>\n",
              "      <td>263782.0</td>\n",
              "      <td>0.0</td>\n",
              "      <td>3238989</td>\n",
              "    </tr>\n",
              "    <tr>\n",
              "      <th>1</th>\n",
              "      <td>2023-03-27 11:15:55.437227</td>\n",
              "      <td>Badung</td>\n",
              "      <td>27-03-2023</td>\n",
              "      <td>28-03-2023</td>\n",
              "      <td>1</td>\n",
              "      <td>338572</td>\n",
              "      <td>POP! Hotel Kuta Beach</td>\n",
              "      <td>POP! Hotel Kuta Beach</td>\n",
              "      <td>Hotel</td>\n",
              "      <td>Kuta, Badung</td>\n",
              "      <td>...</td>\n",
              "      <td>0.0</td>\n",
              "      <td>207431</td>\n",
              "      <td>247934</td>\n",
              "      <td>33877</td>\n",
              "      <td>0</td>\n",
              "      <td>281811</td>\n",
              "      <td>247934</td>\n",
              "      <td>33877.0</td>\n",
              "      <td>0.0</td>\n",
              "      <td>281811</td>\n",
              "    </tr>\n",
              "    <tr>\n",
              "      <th>2</th>\n",
              "      <td>2023-03-27 11:15:55.437227</td>\n",
              "      <td>Badung</td>\n",
              "      <td>27-03-2023</td>\n",
              "      <td>28-03-2023</td>\n",
              "      <td>1</td>\n",
              "      <td>9000001071572</td>\n",
              "      <td>Horison Le Aman</td>\n",
              "      <td>Horison Le Aman</td>\n",
              "      <td>Hotel</td>\n",
              "      <td>Jimbaran, Badung</td>\n",
              "      <td>...</td>\n",
              "      <td>46803.0</td>\n",
              "      <td>269680</td>\n",
              "      <td>284281</td>\n",
              "      <td>0</td>\n",
              "      <td>59699</td>\n",
              "      <td>343980</td>\n",
              "      <td>284281</td>\n",
              "      <td>0.0</td>\n",
              "      <td>59699.0</td>\n",
              "      <td>343980</td>\n",
              "    </tr>\n",
              "    <tr>\n",
              "      <th>3</th>\n",
              "      <td>2023-03-27 11:15:55.437227</td>\n",
              "      <td>Badung</td>\n",
              "      <td>27-03-2023</td>\n",
              "      <td>28-03-2023</td>\n",
              "      <td>1</td>\n",
              "      <td>461589</td>\n",
              "      <td>Amaris Hotel Pratama Nusa Dua</td>\n",
              "      <td>Amaris Hotel Pratama Nusa Dua</td>\n",
              "      <td>Hotel</td>\n",
              "      <td>Nusa Dua, Badung</td>\n",
              "      <td>...</td>\n",
              "      <td>62479.0</td>\n",
              "      <td>360000</td>\n",
              "      <td>371901</td>\n",
              "      <td>0</td>\n",
              "      <td>78099</td>\n",
              "      <td>450000</td>\n",
              "      <td>371901</td>\n",
              "      <td>0.0</td>\n",
              "      <td>78099.0</td>\n",
              "      <td>450000</td>\n",
              "    </tr>\n",
              "    <tr>\n",
              "      <th>4</th>\n",
              "      <td>2023-03-27 11:15:55.437227</td>\n",
              "      <td>Badung</td>\n",
              "      <td>27-03-2023</td>\n",
              "      <td>28-03-2023</td>\n",
              "      <td>1</td>\n",
              "      <td>1000000514793</td>\n",
              "      <td>Hotel Amaris Kuta - Bali</td>\n",
              "      <td>Hotel Amaris Kuta - Bali</td>\n",
              "      <td>Hotel</td>\n",
              "      <td>Legian, Badung</td>\n",
              "      <td>...</td>\n",
              "      <td>0.0</td>\n",
              "      <td>248621</td>\n",
              "      <td>270542</td>\n",
              "      <td>41715</td>\n",
              "      <td>0</td>\n",
              "      <td>312257</td>\n",
              "      <td>270542</td>\n",
              "      <td>41715.0</td>\n",
              "      <td>0.0</td>\n",
              "      <td>312257</td>\n",
              "    </tr>\n",
              "  </tbody>\n",
              "</table>\n",
              "<p>5 rows × 37 columns</p>\n",
              "</div>"
            ],
            "text/plain": [
              "                   timestamp    city     checkin    checkout  \\\n",
              "0 2023-03-27 11:15:55.436196  Badung  27-03-2023  28-03-2023   \n",
              "1 2023-03-27 11:15:55.437227  Badung  27-03-2023  28-03-2023   \n",
              "2 2023-03-27 11:15:55.437227  Badung  27-03-2023  28-03-2023   \n",
              "3 2023-03-27 11:15:55.437227  Badung  27-03-2023  28-03-2023   \n",
              "4 2023-03-27 11:15:55.437227  Badung  27-03-2023  28-03-2023   \n",
              "\n",
              "   num_staying_nights             id                           name  \\\n",
              "0                   1  9000001049559      Taman Dharmawangsa Suites   \n",
              "1                   1         338572          POP! Hotel Kuta Beach   \n",
              "2                   1  9000001071572                Horison Le Aman   \n",
              "3                   1         461589  Amaris Hotel Pratama Nusa Dua   \n",
              "4                   1  1000000514793       Hotel Amaris Kuta - Bali   \n",
              "\n",
              "                     displayName accomPropertyType            region  ...  \\\n",
              "0      Taman Dharmawangsa Suites              Vila  Nusa Dua, Badung  ...   \n",
              "1          POP! Hotel Kuta Beach             Hotel      Kuta, Badung  ...   \n",
              "2                Horison Le Aman             Hotel  Jimbaran, Badung  ...   \n",
              "3  Amaris Hotel Pratama Nusa Dua             Hotel  Nusa Dua, Badung  ...   \n",
              "4       Hotel Amaris Kuta - Bali             Hotel    Legian, Badung  ...   \n",
              "\n",
              "  cheapestRate_perNight_taxes cheapestRate_perNight_totalFare  \\\n",
              "0                         0.0                         1572873   \n",
              "1                         0.0                          207431   \n",
              "2                     46803.0                          269680   \n",
              "3                     62479.0                          360000   \n",
              "4                         0.0                          248621   \n",
              "\n",
              "  originalRate_allNights_baseFare originalRate_allNights_fees  \\\n",
              "0                         2975207                      263782   \n",
              "1                          247934                       33877   \n",
              "2                          284281                           0   \n",
              "3                          371901                           0   \n",
              "4                          270542                       41715   \n",
              "\n",
              "  originalRate_allNights_taxes originalRate_allNights_totalFare  \\\n",
              "0                            0                          3238989   \n",
              "1                            0                           281811   \n",
              "2                        59699                           343980   \n",
              "3                        78099                           450000   \n",
              "4                            0                           312257   \n",
              "\n",
              "  originalRate_perNight_baseFare originalRate_perNight_fees  \\\n",
              "0                        2975207                   263782.0   \n",
              "1                         247934                    33877.0   \n",
              "2                         284281                        0.0   \n",
              "3                         371901                        0.0   \n",
              "4                         270542                    41715.0   \n",
              "\n",
              "  originalRate_perNight_taxes originalRate_perNight_totalFare  \n",
              "0                         0.0                         3238989  \n",
              "1                         0.0                          281811  \n",
              "2                     59699.0                          343980  \n",
              "3                     78099.0                          450000  \n",
              "4                         0.0                          312257  \n",
              "\n",
              "[5 rows x 37 columns]"
            ]
          },
          "execution_count": 4,
          "metadata": {},
          "output_type": "execute_result"
        }
      ],
      "source": [
        "df = pd.DataFrame(_data_)\n",
        "df.head()"
      ]
    },
    {
      "cell_type": "code",
      "execution_count": 5,
      "metadata": {
        "colab": {
          "base_uri": "https://localhost:8080/",
          "height": 833
        },
        "id": "OPdLbw08jbEW",
        "outputId": "6aacd5b8-4514-4c76-e9eb-d0d014d4d0e0"
      },
      "outputs": [
        {
          "data": {
            "text/html": [
              "<div>\n",
              "<style scoped>\n",
              "    .dataframe tbody tr th:only-of-type {\n",
              "        vertical-align: middle;\n",
              "    }\n",
              "\n",
              "    .dataframe tbody tr th {\n",
              "        vertical-align: top;\n",
              "    }\n",
              "\n",
              "    .dataframe thead th {\n",
              "        text-align: right;\n",
              "    }\n",
              "</style>\n",
              "<table border=\"1\" class=\"dataframe\">\n",
              "  <thead>\n",
              "    <tr style=\"text-align: right;\">\n",
              "      <th></th>\n",
              "      <th></th>\n",
              "      <th>count</th>\n",
              "    </tr>\n",
              "    <tr>\n",
              "      <th>checkin</th>\n",
              "      <th>city</th>\n",
              "      <th></th>\n",
              "    </tr>\n",
              "  </thead>\n",
              "  <tbody>\n",
              "    <tr>\n",
              "      <th rowspan=\"3\" valign=\"top\">27-03-2023</th>\n",
              "      <th>Badung</th>\n",
              "      <td>76</td>\n",
              "    </tr>\n",
              "    <tr>\n",
              "      <th>Denpasar</th>\n",
              "      <td>67</td>\n",
              "    </tr>\n",
              "    <tr>\n",
              "      <th>Gianyar</th>\n",
              "      <td>2</td>\n",
              "    </tr>\n",
              "  </tbody>\n",
              "</table>\n",
              "</div>"
            ],
            "text/plain": [
              "                     count\n",
              "checkin    city           \n",
              "27-03-2023 Badung       76\n",
              "           Denpasar     67\n",
              "           Gianyar       2"
            ]
          },
          "execution_count": 5,
          "metadata": {},
          "output_type": "execute_result"
        }
      ],
      "source": [
        "df.groupby(['checkin','city'])['city'].agg(['count'])"
      ]
    },
    {
      "cell_type": "code",
      "execution_count": 6,
      "metadata": {
        "colab": {
          "base_uri": "https://localhost:8080/"
        },
        "id": "IzQkFMwFpHjn",
        "outputId": "0ea6e0a9-2962-4bfc-9e1f-a14bc334d994"
      },
      "outputs": [
        {
          "data": {
            "text/plain": [
              "145"
            ]
          },
          "execution_count": 6,
          "metadata": {},
          "output_type": "execute_result"
        }
      ],
      "source": [
        "len(df)"
      ]
    },
    {
      "cell_type": "markdown",
      "metadata": {
        "id": "7l2pXpr7pJSc"
      },
      "source": [
        "###Export Result"
      ]
    },
    {
      "cell_type": "code",
      "execution_count": 7,
      "metadata": {
        "id": "trer-5wvpLKu"
      },
      "outputs": [],
      "source": [
        "df.to_csv('traveloka_scrap_listing.csv', sep=',', index=False)"
      ]
    }
  ],
  "metadata": {
    "colab": {
      "provenance": []
    },
    "kernelspec": {
      "display_name": "Python 3",
      "name": "python3"
    },
    "language_info": {
      "codemirror_mode": {
        "name": "ipython",
        "version": 3
      },
      "file_extension": ".py",
      "mimetype": "text/x-python",
      "name": "python",
      "nbconvert_exporter": "python",
      "pygments_lexer": "ipython3",
      "version": "3.9.13"
    }
  },
  "nbformat": 4,
  "nbformat_minor": 0
}
