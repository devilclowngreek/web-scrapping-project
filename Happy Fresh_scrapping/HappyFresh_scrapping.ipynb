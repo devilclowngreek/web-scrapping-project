{
  "cells": [
    {
      "cell_type": "code",
      "execution_count": 20,
      "metadata": {
        "id": "NcVYUZ6esgax",
        "outputId": "da073d1e-ec2e-48be-ad1b-522f9030da62"
      },
      "outputs": [
        {
          "data": {
            "text/plain": [
              "'id-ID.UTF-8'"
            ]
          },
          "execution_count": 20,
          "metadata": {},
          "output_type": "execute_result"
        }
      ],
      "source": [
        "import csv\n",
        "import time\n",
        "import math\n",
        "import regex as re\n",
        "import os\n",
        "from datetime import datetime\n",
        "from selenium import webdriver\n",
        "from selenium.webdriver.common.keys import Keys\n",
        "from selenium.webdriver.common.by import By\n",
        "from selenium.webdriver.support.ui import WebDriverWait\n",
        "from selenium.webdriver.edge.service import Service\n",
        "from selenium.webdriver.support import expected_conditions as EC\n",
        "from selenium.common.exceptions import NoSuchElementException\n",
        "\n",
        "import locale\n",
        "locale.setlocale(locale.LC_TIME, 'id-ID.UTF-8')"
      ]
    },
    {
      "cell_type": "code",
      "execution_count": 21,
      "metadata": {
        "id": "cdVXpYadsga2"
      },
      "outputs": [],
      "source": [
        "def check_exists_by_xpath(xpath):\n",
        "    try:\n",
        "        elements = driver.find_elements(By.XPATH, xpath)\n",
        "        return len(elements) > 0\n",
        "    except NoSuchElementException:\n",
        "        return False"
      ]
    },
    {
      "attachments": {},
      "cell_type": "markdown",
      "metadata": {
        "id": "xTUbyiTDsga3"
      },
      "source": [
        "# Set Target"
      ]
    },
    {
      "cell_type": "code",
      "execution_count": 22,
      "metadata": {
        "id": "-DH4LlBasga-"
      },
      "outputs": [],
      "source": [
        "target = [\n",
        "    \"https://www.happyfresh.id/hypermart-ar-hakim\",\n",
        "    \"https://www.happyfresh.id/hero-tunjungan-plaza/\",\n",
        "    \"https://www.happyfresh.id/farmers-market-kupang-indah/\",\n",
        "    \"https://www.happyfresh.id/papaya-fresh-gallery-margorejo/\",\n",
        "    \"https://www.happyfresh.id/freshco-market-grand-city/\"\n",
        "]\n",
        "category = [\n",
        "    \"fresh-produce-2\",\n",
        "    \"pantry-and-ingredients-48\",\n",
        "    \"meat-seafood-7\",\n",
        "    \"dairy-eggs-24\",\n",
        "    \"chilled-and-frozen-70\"\n",
        "]\n",
        "plus = '?page='"
      ]
    },
    {
      "attachments": {},
      "cell_type": "markdown",
      "metadata": {
        "id": "iFoY732vsga_"
      },
      "source": [
        "# Start Scrap"
      ]
    },
    {
      "cell_type": "code",
      "execution_count": 23,
      "metadata": {
        "id": "w0jpXMACsgbA"
      },
      "outputs": [
        {
          "ename": "FileExistsError",
          "evalue": "[WinError 183] Cannot create a file when that file already exists: '13062023'",
          "output_type": "error",
          "traceback": [
            "\u001b[1;31m---------------------------------------------------------------------------\u001b[0m",
            "\u001b[1;31mFileExistsError\u001b[0m                           Traceback (most recent call last)",
            "\u001b[1;32m~\\AppData\\Local\\Temp\\ipykernel_17760\\4051970853.py\u001b[0m in \u001b[0;36m<module>\u001b[1;34m\u001b[0m\n\u001b[0;32m      1\u001b[0m \u001b[0mdatenow\u001b[0m \u001b[1;33m=\u001b[0m \u001b[0mdatetime\u001b[0m\u001b[1;33m.\u001b[0m\u001b[0mdate\u001b[0m\u001b[1;33m(\u001b[0m\u001b[0mdatetime\u001b[0m\u001b[1;33m.\u001b[0m\u001b[0mnow\u001b[0m\u001b[1;33m(\u001b[0m\u001b[1;33m)\u001b[0m\u001b[1;33m)\u001b[0m\u001b[1;33m.\u001b[0m\u001b[0mstrftime\u001b[0m\u001b[1;33m(\u001b[0m\u001b[1;34m'%d%m%Y'\u001b[0m\u001b[1;33m)\u001b[0m\u001b[1;33m\u001b[0m\u001b[1;33m\u001b[0m\u001b[0m\n\u001b[1;32m----> 2\u001b[1;33m \u001b[0mos\u001b[0m\u001b[1;33m.\u001b[0m\u001b[0mmkdir\u001b[0m\u001b[1;33m(\u001b[0m\u001b[0mdatenow\u001b[0m\u001b[1;33m)\u001b[0m\u001b[1;33m\u001b[0m\u001b[1;33m\u001b[0m\u001b[0m\n\u001b[0m",
            "\u001b[1;31mFileExistsError\u001b[0m: [WinError 183] Cannot create a file when that file already exists: '13062023'"
          ]
        }
      ],
      "source": [
        "datenow = datetime.date(datetime.now()).strftime('%d%m%Y')\n",
        "os.mkdir(datenow)"
      ]
    },
    {
      "cell_type": "code",
      "execution_count": 24,
      "metadata": {
        "id": "NHjSZd3rsgbB",
        "outputId": "556aeb77-6e43-4a6a-e6a5-f8081b559839"
      },
      "outputs": [
        {
          "name": "stdout",
          "output_type": "stream",
          "text": [
            "==>  hypermart-ar-hakim  <==\n",
            "========================================\n",
            "fresh produce => No Product found\n",
            "pantry and ingredients => No Product found\n",
            "meat seafood => No Product found\n",
            "dairy eggs => No Product found\n",
            "chilled and frozen => No Product found\n",
            "Done Scrapped :  hypermart-ar-hakim\n",
            "========================================\n",
            "==>  hero-tunjungan-plaza  <==\n",
            "========================================\n",
            "fresh produce => No Product found\n",
            "pantry and ingredients => No Product found\n",
            "meat seafood => No Product found\n",
            "dairy eggs => No Product found\n",
            "chilled and frozen => No Product found\n",
            "Done Scrapped :  hero-tunjungan-plaza\n",
            "========================================\n",
            "==>  farmers-market-kupang-indah  <==\n",
            "========================================\n",
            "fresh produce => No Product found\n",
            "pantry and ingredients => No Product found\n",
            "meat seafood => No Product found\n",
            "dairy eggs => No Product found\n",
            "chilled and frozen => No Product found\n",
            "Done Scrapped :  farmers-market-kupang-indah\n",
            "========================================\n",
            "==>  papaya-fresh-gallery-margorejo  <==\n",
            "========================================\n",
            "fresh produce => No Product found\n",
            "pantry and ingredients => No Product found\n",
            "meat seafood => No Product found\n",
            "dairy eggs => No Product found\n",
            "chilled and frozen => No Product found\n",
            "Done Scrapped :  papaya-fresh-gallery-margorejo\n",
            "========================================\n",
            "==>  freshco-market-grand-city  <==\n",
            "========================================\n",
            "fresh produce => No Product found\n",
            "pantry and ingredients => No Product found\n",
            "meat seafood => No Product found\n",
            "dairy eggs => No Product found\n",
            "chilled and frozen => No Product found\n",
            "Done Scrapped :  freshco-market-grand-city\n",
            "========================================\n",
            "ALL TARGET SCRAPPED!!!\n"
          ]
        }
      ],
      "source": [
        "# Looping  for each url on list\n",
        "for url in target :\n",
        "    s = Service('D:\\web_scrapping\\Happy Fresh_scrapping\\msedgedriver.exe')\n",
        "    driver = webdriver.Edge(service=s)\n",
        "    actionChain = webdriver.ActionChains(driver)\n",
        "    time.sleep(3)\n",
        "\n",
        "    outlet = url.split('/')[3]\n",
        "    csvFile = open(\"D:\\web_scrapping\\Happy Fresh_scrapping\\%s\\scrapped_%s.csv\" % (datenow, outlet,), 'a', newline='')\n",
        "    csvWriter = csv.writer(csvFile)\n",
        "    csvWriter.writerow(['Kategori','Nama','Pack','Harga', 'Satuan', 'Harga per unit'])\n",
        "\n",
        "    print(\"==> \", outlet, \" <==\")\n",
        "    print(\"========================================\")\n",
        "\n",
        "    for cat in category :\n",
        "\n",
        "        driver.get(url+cat)\n",
        "        cat_name = cat.replace(\"-\", \" \").rsplit(' ', 1)[0]\n",
        "\n",
        "        if (check_exists_by_xpath(\".//span[@class='jsx-4062261742 count']\")):\n",
        "            #get total item and total pages\n",
        "            totproduct = int(driver.find_elements(By.XPATH,\".//span[@class='jsx-4062261742 count']\").text);\n",
        "            totpage = math.ceil(totproduct/20)\n",
        "\n",
        "            #Looping each pages\n",
        "            for i in range(0,totpage):\n",
        "                container = driver.find_elements(By.XPATH,\"//div[@class='jsx-2751153571 root small PLP-Common-\"+cat+\"-product-container']\")\n",
        "                num_page_items = len(container);\n",
        "                pagenow = i+1\n",
        "                print(cat_name, \"=> Page : \", pagenow, \"/\", totpage, end = ' ')\n",
        "    #print(\"Total Items on Page : \", num_page_items)\n",
        "\n",
        "                #Looping each product in pages\n",
        "                for j in range(num_page_items):\n",
        "              #time.sleep(1)\n",
        "\n",
        "                    # to save product name\n",
        "                    name = container[j].find_elements(By.XPATH,\".//h2[@class='jsx-2751153571 jsx-717190455']\").text.encode(\"utf-8\", \"ignore\")\n",
        "    #                 print(name)\n",
        "\n",
        "                    # to save product qty\n",
        "                    packaging = container[j].find_elements(By.XPATH,\".//div[@class='jsx-2751153571 jsx-717190455 unit']\").text;\n",
        "    #                 print(packaging)\n",
        "\n",
        "                    # to save harga\n",
        "                    price = container[j].find_elements(By.XPATH,\".//span[@class='jsx-2751153571 jsx-717190455 price']\").text;\n",
        "                    if (price == ''):\n",
        "                        price = container[j].find_elements(By.XPATH,\".//div[@class='jsx-2751153571 jsx-717190455 price PLP-Common-\"+cat+\"-discount-price']\").text;\n",
        "    #                 print(price)\n",
        "\n",
        "                    # to save gramasi produk\n",
        "                    if (check_exists_by_xpath(\"//div[@class='jsx-2751153571 jsx-717190455 unit-price']\")):\n",
        "                        gram = container[j].find_elements(By.XPATH,\".//div[@class='jsx-2751153571 jsx-717190455 unit-price']\").text;\n",
        "                        if gram == \"\":\n",
        "                            unitprice = 0\n",
        "                            satuan = 0\n",
        "                        else:\n",
        "                            unitprice = gram.split('/')[0]\n",
        "                            satuan = gram.split('/')[1]\n",
        "        #print(unitprice)\n",
        "        #print(satuan)\n",
        "\n",
        "                    # to save in a csv file readable\n",
        "                    csvWriter.writerow([cat_name, name, packaging, price, satuan, unitprice])\n",
        "\n",
        "                # to change the page\n",
        "                print(\"Done!\")\n",
        "                if pagenow != totpage:\n",
        "                    driver.get(url+cat+plus+str(pagenow+1))\n",
        "        else :\n",
        "            print(cat_name+\" => No Product found\")\n",
        "    csvFile.close()\n",
        "    driver.close()\n",
        "    print(\"Done Scrapped : \", outlet)\n",
        "    print(\"========================================\")\n",
        "print(\"ALL TARGET SCRAPPED!!!\")"
      ]
    },
    {
      "cell_type": "code",
      "execution_count": 25,
      "metadata": {
        "id": "V3l6yvDrsgbF"
      },
      "outputs": [
        {
          "ename": "InvalidSessionIdException",
          "evalue": "Message: invalid session id\nStacktrace:\nBacktrace:\n\tGetHandleVerifier [0x00007FF79C2F6642+66882]\n\tMicrosoft::Applications::Events::EventProperty::~EventProperty [0x00007FF79C28A6F2+809202]\n\t(No symbol) [0x00007FF79C02BC80]\n\t(No symbol) [0x00007FF79C060ABD]\n\t(No symbol) [0x00007FF79C08D022]\n\t(No symbol) [0x00007FF79C05FF73]\n\t(No symbol) [0x00007FF79C089651]\n\t(No symbol) [0x00007FF79C088F5A]\n\t(No symbol) [0x00007FF79BFFC5A0]\n\tMicrosoft::Applications::Events::ILogManager::DispatchEventBroadcast [0x00007FF79C4C68F3+1326387]\n\t(No symbol) [0x00007FF79C0DB8C8]\n\tMicrosoft::Applications::Events::EventProperty::~EventProperty [0x00007FF79C1CD671+34929]\n\tMicrosoft::Applications::Events::EventProperty::~EventProperty [0x00007FF79C1C5745+2373]\n\tMicrosoft::Applications::Events::ILogManager::DispatchEventBroadcast [0x00007FF79C4C5643+1321603]\n\tMicrosoft::Applications::Events::EventProperty::~EventProperty [0x00007FF79C291D69+839529]\n\t(No symbol) [0x00007FF79BFFB4A7]\n\tMicrosoft::Applications::Events::time_ticks_t::time_ticks_t [0x00007FF79C4F5928+130504]\n\tBaseThreadInitThunk [0x00007FFDC6FA26AD+29]\n\tRtlUserThreadStart [0x00007FFDC88EA9F8+40]\n",
          "output_type": "error",
          "traceback": [
            "\u001b[1;31m---------------------------------------------------------------------------\u001b[0m",
            "\u001b[1;31mInvalidSessionIdException\u001b[0m                 Traceback (most recent call last)",
            "\u001b[1;32m~\\AppData\\Local\\Temp\\ipykernel_17760\\3888851051.py\u001b[0m in \u001b[0;36m<module>\u001b[1;34m\u001b[0m\n\u001b[0;32m      1\u001b[0m \u001b[0mcsvFile\u001b[0m\u001b[1;33m.\u001b[0m\u001b[0mclose\u001b[0m\u001b[1;33m(\u001b[0m\u001b[1;33m)\u001b[0m\u001b[1;33m\u001b[0m\u001b[1;33m\u001b[0m\u001b[0m\n\u001b[1;32m----> 2\u001b[1;33m \u001b[0mdriver\u001b[0m\u001b[1;33m.\u001b[0m\u001b[0mclose\u001b[0m\u001b[1;33m(\u001b[0m\u001b[1;33m)\u001b[0m\u001b[1;33m\u001b[0m\u001b[1;33m\u001b[0m\u001b[0m\n\u001b[0m",
            "\u001b[1;32m~\\AppData\\Roaming\\Python\\Python39\\site-packages\\selenium\\webdriver\\remote\\webdriver.py\u001b[0m in \u001b[0;36mclose\u001b[1;34m(self)\u001b[0m\n\u001b[0;32m    549\u001b[0m                 \u001b[0mdriver\u001b[0m\u001b[1;33m.\u001b[0m\u001b[0mclose\u001b[0m\u001b[1;33m(\u001b[0m\u001b[1;33m)\u001b[0m\u001b[1;33m\u001b[0m\u001b[1;33m\u001b[0m\u001b[0m\n\u001b[0;32m    550\u001b[0m         \"\"\"\n\u001b[1;32m--> 551\u001b[1;33m         \u001b[0mself\u001b[0m\u001b[1;33m.\u001b[0m\u001b[0mexecute\u001b[0m\u001b[1;33m(\u001b[0m\u001b[0mCommand\u001b[0m\u001b[1;33m.\u001b[0m\u001b[0mCLOSE\u001b[0m\u001b[1;33m)\u001b[0m\u001b[1;33m\u001b[0m\u001b[1;33m\u001b[0m\u001b[0m\n\u001b[0m\u001b[0;32m    552\u001b[0m \u001b[1;33m\u001b[0m\u001b[0m\n\u001b[0;32m    553\u001b[0m     \u001b[1;32mdef\u001b[0m \u001b[0mquit\u001b[0m\u001b[1;33m(\u001b[0m\u001b[0mself\u001b[0m\u001b[1;33m)\u001b[0m \u001b[1;33m->\u001b[0m \u001b[1;32mNone\u001b[0m\u001b[1;33m:\u001b[0m\u001b[1;33m\u001b[0m\u001b[1;33m\u001b[0m\u001b[0m\n",
            "\u001b[1;32m~\\AppData\\Roaming\\Python\\Python39\\site-packages\\selenium\\webdriver\\remote\\webdriver.py\u001b[0m in \u001b[0;36mexecute\u001b[1;34m(self, driver_command, params)\u001b[0m\n\u001b[0;32m    438\u001b[0m         \u001b[0mresponse\u001b[0m \u001b[1;33m=\u001b[0m \u001b[0mself\u001b[0m\u001b[1;33m.\u001b[0m\u001b[0mcommand_executor\u001b[0m\u001b[1;33m.\u001b[0m\u001b[0mexecute\u001b[0m\u001b[1;33m(\u001b[0m\u001b[0mdriver_command\u001b[0m\u001b[1;33m,\u001b[0m \u001b[0mparams\u001b[0m\u001b[1;33m)\u001b[0m\u001b[1;33m\u001b[0m\u001b[1;33m\u001b[0m\u001b[0m\n\u001b[0;32m    439\u001b[0m         \u001b[1;32mif\u001b[0m \u001b[0mresponse\u001b[0m\u001b[1;33m:\u001b[0m\u001b[1;33m\u001b[0m\u001b[1;33m\u001b[0m\u001b[0m\n\u001b[1;32m--> 440\u001b[1;33m             \u001b[0mself\u001b[0m\u001b[1;33m.\u001b[0m\u001b[0merror_handler\u001b[0m\u001b[1;33m.\u001b[0m\u001b[0mcheck_response\u001b[0m\u001b[1;33m(\u001b[0m\u001b[0mresponse\u001b[0m\u001b[1;33m)\u001b[0m\u001b[1;33m\u001b[0m\u001b[1;33m\u001b[0m\u001b[0m\n\u001b[0m\u001b[0;32m    441\u001b[0m             \u001b[0mresponse\u001b[0m\u001b[1;33m[\u001b[0m\u001b[1;34m\"value\"\u001b[0m\u001b[1;33m]\u001b[0m \u001b[1;33m=\u001b[0m \u001b[0mself\u001b[0m\u001b[1;33m.\u001b[0m\u001b[0m_unwrap_value\u001b[0m\u001b[1;33m(\u001b[0m\u001b[0mresponse\u001b[0m\u001b[1;33m.\u001b[0m\u001b[0mget\u001b[0m\u001b[1;33m(\u001b[0m\u001b[1;34m\"value\"\u001b[0m\u001b[1;33m,\u001b[0m \u001b[1;32mNone\u001b[0m\u001b[1;33m)\u001b[0m\u001b[1;33m)\u001b[0m\u001b[1;33m\u001b[0m\u001b[1;33m\u001b[0m\u001b[0m\n\u001b[0;32m    442\u001b[0m             \u001b[1;32mreturn\u001b[0m \u001b[0mresponse\u001b[0m\u001b[1;33m\u001b[0m\u001b[1;33m\u001b[0m\u001b[0m\n",
            "\u001b[1;32m~\\AppData\\Roaming\\Python\\Python39\\site-packages\\selenium\\webdriver\\remote\\errorhandler.py\u001b[0m in \u001b[0;36mcheck_response\u001b[1;34m(self, response)\u001b[0m\n\u001b[0;32m    243\u001b[0m                 \u001b[0malert_text\u001b[0m \u001b[1;33m=\u001b[0m \u001b[0mvalue\u001b[0m\u001b[1;33m[\u001b[0m\u001b[1;34m\"alert\"\u001b[0m\u001b[1;33m]\u001b[0m\u001b[1;33m.\u001b[0m\u001b[0mget\u001b[0m\u001b[1;33m(\u001b[0m\u001b[1;34m\"text\"\u001b[0m\u001b[1;33m)\u001b[0m\u001b[1;33m\u001b[0m\u001b[1;33m\u001b[0m\u001b[0m\n\u001b[0;32m    244\u001b[0m             \u001b[1;32mraise\u001b[0m \u001b[0mexception_class\u001b[0m\u001b[1;33m(\u001b[0m\u001b[0mmessage\u001b[0m\u001b[1;33m,\u001b[0m \u001b[0mscreen\u001b[0m\u001b[1;33m,\u001b[0m \u001b[0mstacktrace\u001b[0m\u001b[1;33m,\u001b[0m \u001b[0malert_text\u001b[0m\u001b[1;33m)\u001b[0m  \u001b[1;31m# type: ignore[call-arg]  # mypy is not smart enough here\u001b[0m\u001b[1;33m\u001b[0m\u001b[1;33m\u001b[0m\u001b[0m\n\u001b[1;32m--> 245\u001b[1;33m         \u001b[1;32mraise\u001b[0m \u001b[0mexception_class\u001b[0m\u001b[1;33m(\u001b[0m\u001b[0mmessage\u001b[0m\u001b[1;33m,\u001b[0m \u001b[0mscreen\u001b[0m\u001b[1;33m,\u001b[0m \u001b[0mstacktrace\u001b[0m\u001b[1;33m)\u001b[0m\u001b[1;33m\u001b[0m\u001b[1;33m\u001b[0m\u001b[0m\n\u001b[0m",
            "\u001b[1;31mInvalidSessionIdException\u001b[0m: Message: invalid session id\nStacktrace:\nBacktrace:\n\tGetHandleVerifier [0x00007FF79C2F6642+66882]\n\tMicrosoft::Applications::Events::EventProperty::~EventProperty [0x00007FF79C28A6F2+809202]\n\t(No symbol) [0x00007FF79C02BC80]\n\t(No symbol) [0x00007FF79C060ABD]\n\t(No symbol) [0x00007FF79C08D022]\n\t(No symbol) [0x00007FF79C05FF73]\n\t(No symbol) [0x00007FF79C089651]\n\t(No symbol) [0x00007FF79C088F5A]\n\t(No symbol) [0x00007FF79BFFC5A0]\n\tMicrosoft::Applications::Events::ILogManager::DispatchEventBroadcast [0x00007FF79C4C68F3+1326387]\n\t(No symbol) [0x00007FF79C0DB8C8]\n\tMicrosoft::Applications::Events::EventProperty::~EventProperty [0x00007FF79C1CD671+34929]\n\tMicrosoft::Applications::Events::EventProperty::~EventProperty [0x00007FF79C1C5745+2373]\n\tMicrosoft::Applications::Events::ILogManager::DispatchEventBroadcast [0x00007FF79C4C5643+1321603]\n\tMicrosoft::Applications::Events::EventProperty::~EventProperty [0x00007FF79C291D69+839529]\n\t(No symbol) [0x00007FF79BFFB4A7]\n\tMicrosoft::Applications::Events::time_ticks_t::time_ticks_t [0x00007FF79C4F5928+130504]\n\tBaseThreadInitThunk [0x00007FFDC6FA26AD+29]\n\tRtlUserThreadStart [0x00007FFDC88EA9F8+40]\n"
          ]
        }
      ],
      "source": [
        "csvFile.close()\n",
        "driver.close()"
      ]
    }
  ],
  "metadata": {
    "colab": {
      "provenance": []
    },
    "interpreter": {
      "hash": "a5e9669fc23686289bab8faee75cf5c458b29840ff2a1c38e2ed113a10858e16"
    },
    "kernelspec": {
      "display_name": "Python 3",
      "language": "python",
      "name": "python3"
    },
    "language_info": {
      "codemirror_mode": {
        "name": "ipython",
        "version": 3
      },
      "file_extension": ".py",
      "mimetype": "text/x-python",
      "name": "python",
      "nbconvert_exporter": "python",
      "pygments_lexer": "ipython3",
      "version": "3.9.13"
    }
  },
  "nbformat": 4,
  "nbformat_minor": 0
}
